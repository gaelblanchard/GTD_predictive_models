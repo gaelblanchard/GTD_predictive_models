{
  "cells": [
    {
      "metadata": {
        "_uuid": "4510c93376e42d42c70ba525911cbd88a12998bc"
      },
      "cell_type": "markdown",
      "source": "## Gael Blanchard\n###  Problem: Given the Global Terrorism Data Set construct a predicitve model which can determine which terrorist group is responsible for an event"
    },
    {
      "metadata": {
        "_uuid": "d821fae5aace21b81ca2c49872382cf2a987267f"
      },
      "cell_type": "markdown",
      "source": "## Global Terrorism Data\n[Source: National Consortium for the Study of Terrorism and Responses to Terrorism (START). (2016). Global Terrorism Database [Data file]. Retrieved from https://www.start.umd.edu/gtd](http://www.start.umd.edu/gtd)"
    },
    {
      "metadata": {
        "_uuid": "8f2839f25d086af736a60e9eeb907d3b93b6e0e5",
        "_cell_guid": "b1076dfc-b9ad-4769-8c92-a6c4dae69d19",
        "trusted": true,
        "collapsed": true
      },
      "cell_type": "code",
      "source": "#Required Libraries\nimport numpy as np \nimport pandas as pd \nfrom sklearn.neighbors import KNeighborsClassifier\nfrom sklearn.tree import DecisionTreeClassifier\nfrom sklearn.metrics import accuracy_score, hamming_loss\nimport matplotlib.pyplot as plt",
      "execution_count": null,
      "outputs": []
    },
    {
      "metadata": {
        "trusted": true,
        "collapsed": true,
        "_uuid": "d33b118fe0cb49324cfc02ea4ab678f22ba99459"
      },
      "cell_type": "code",
      "source": "#Disables SettingWithCopy Warning\npd.options.mode.chained_assignment = None\n#Set the random seed for reproducible results\nnp.random.seed(0)",
      "execution_count": null,
      "outputs": []
    },
    {
      "metadata": {
        "trusted": true,
        "collapsed": true,
        "_uuid": "6849ca9e5479032b2976fbf2050d0ed994fec272"
      },
      "cell_type": "code",
      "source": "#Method to determine the performance of our classification models\n#Does a simple comparison of predicitons and actual calculations\ndef print_results(predictions,data,desired_variable):\n\tprint(\"Results:\")\n\tprint(\"Number of mislabeled points out of a total {} points : {}, performance {:05.2f}%\"\n\t.format(\n\t\tdata.shape[0],\n\t\t(data[desired_variable] != predictions).sum(),\n\t\t100*(1-(data[desired_variable] != predictions).sum()/data.shape[0])\n\t\t)\n\t)\n    \n#method to return the head and tail frequencies\ndef frequency_data(data,factors):\n    for factor in factors:\n        print(factor)\n        print(data[factor].value_counts().head())\n        #print(data[factor].value_counts().tail())",
      "execution_count": null,
      "outputs": []
    },
    {
      "metadata": {
        "_uuid": "78dafa4a6f75710ce90b7a79efcd7d3e55912afd"
      },
      "cell_type": "markdown",
      "source": "# 1.   Data Collection\n* Read in our data from the Global Terrorism Database into a Pandas Data Frame\n* Isolated the variables we needed (10/135 available)"
    },
    {
      "metadata": {
        "trusted": true,
        "_uuid": "ddd22afddce51329a3ddec887b378b4322d686f2",
        "collapsed": true
      },
      "cell_type": "code",
      "source": "#Isolated features for use in our classification models\n#at Data Collection stage to lower memory usage\nfactors_list = [\"gname\",\"iyear\",\"country\",\"attacktype1\",\"targtype1\",\"weaptype1\",\"multiple\",\"success\",\"suicide\",\"city\"]\nglobal_terrorism_data = pd.read_csv(\"../input/globalterrorismdb_0617dist.csv\", encoding = \"ISO-8859-1\", usecols=factors_list, low_memory = False)",
      "execution_count": null,
      "outputs": []
    },
    {
      "metadata": {
        "trusted": true,
        "_uuid": "bf1cc2782ea837eb54af2e3b8db894d4e9a00e8b",
        "collapsed": true
      },
      "cell_type": "code",
      "source": "#Descirbe the data we have just read in\nglobal_terrorism_data.describe(include=\"all\")",
      "execution_count": null,
      "outputs": []
    },
    {
      "metadata": {
        "_uuid": "5279fcd125b3dfff13cded69ef8653a3bdd91ce6"
      },
      "cell_type": "markdown",
      "source": "[This website](http://www.start.umd.edu/gtd/downloads/Codebook.pdf) provides a detail explanation of all the features in the GTD. Given the explanation within the booklet we can isolate certain features. For example, when considering a variable for time year is the most complete whereas month and day can have 0 values when unknown. This booklet also allowed the omission of feature engineering for variables such as country_txt, attacktype1_txt, targtype1_txt, and weaptype1_txt because it has associated numerical codes which serve as factors within this program."
    },
    {
      "metadata": {
        "_uuid": "ffe7c2622f1569565c68dc0aa6a7704b279bac59"
      },
      "cell_type": "markdown",
      "source": " Logic behind selecting these features:\n*  Minimal imputation (All of our features with the exception of city are complete for all rows)\n* Complete features within our data allow for logical subsets within the data which is optimal for prediciton\n* Prevent overfitting\n"
    },
    {
      "metadata": {
        "_uuid": "5eb6b66bc116b9a42ec1dcfa00564823644008bf"
      },
      "cell_type": "markdown",
      "source": "# 2. Data Preparation & Exploration\n* Searched for NA data within our data\n* Determined the frequency of every variable besides year\n* Factorized city and gname variables for usage in our predictive models\n* Seperated data into known and unknown perpetrators\n* Defined our train and test sets"
    },
    {
      "metadata": {
        "trusted": true,
        "_uuid": "9cf290de177ee783260a4072695b038145b3d716",
        "scrolled": false,
        "collapsed": true
      },
      "cell_type": "code",
      "source": "#Look for missing data\nmissing_data = global_terrorism_data.isna().any()\nprint(missing_data)\n#Recognize that our city variable has null values\n#All of our data is categorical in nature\nfreq_factors = [\"gname\",\"country\",\"attacktype1\",\"targtype1\",\"weaptype1\",\"multiple\",\"success\",\"suicide\",\"city\"]\n#Frequency\nfrequency_data(global_terrorism_data,freq_factors)",
      "execution_count": null,
      "outputs": []
    },
    {
      "metadata": {
        "_uuid": "850dc4774c2b4a1934fd63181faba9d792011a54"
      },
      "cell_type": "markdown",
      "source": "Note: There are several classes with single instances"
    },
    {
      "metadata": {
        "trusted": true,
        "_uuid": "99854f2cd64e1686325c72bc675661d0c794ea14",
        "collapsed": true
      },
      "cell_type": "code",
      "source": "#Factorizing data will remove the missing data and seperate city into classes\n#Key if we want to determine the associated perpreatator after running a prediction\nkey_names = global_terrorism_data[\"gname\"].unique()\nfor_factor_key_names = key_names\nkey_id = pd.factorize(for_factor_key_names)[0]\n#We also factorize our variable to predict (Perpetrator Group Name)\nglobal_terrorism_data[\"city\"] = pd.factorize(global_terrorism_data[\"city\"])[0]\nglobal_terrorism_data[\"gname\"] = pd.factorize(global_terrorism_data[\"gname\"])[0]\n#Training and Test Data Sets\ntraining_data = global_terrorism_data\ntest_data = global_terrorism_data.sample(frac=0.8, replace=False)\ntest_unknown = global_terrorism_data[global_terrorism_data[\"gname\"] == 2]\n#list of factors to use for prediction\npredictor_factors = [\"iyear\",\"country\",\"attacktype1\",\"targtype1\",\"weaptype1\",\"multiple\",\"success\",\"suicide\",\"city\"]",
      "execution_count": null,
      "outputs": []
    },
    {
      "metadata": {
        "trusted": true,
        "_uuid": "d508b893c06b9b86acd51d731162dc5b17dba547",
        "collapsed": true
      },
      "cell_type": "code",
      "source": "#Looking at our data post preparation\n#Notice now that our data is now fully representated as numerical values\nglobal_terrorism_data.describe()",
      "execution_count": null,
      "outputs": []
    },
    {
      "metadata": {
        "_uuid": "b35d2b259b1f4d68f0e9f0899b3c5128d25ebc5f"
      },
      "cell_type": "markdown",
      "source": "## Data Visulaizations"
    },
    {
      "metadata": {
        "trusted": true,
        "_uuid": "e3117737fd3e7edd47340d74dc2aa476ced6c41d",
        "collapsed": true
      },
      "cell_type": "code",
      "source": "viz_factors_list = [\"gname\",\"iyear\",\"country_txt\",\"attacktype1_txt\",\"targtype1_txt\",\"weaptype1_txt\",\"multiple\",\"success\",\"suicide\",\"city\"]\ngt_data_for_viz = pd.read_csv(\"../input/globalterrorismdb_0617dist.csv\", encoding = \"ISO-8859-1\", usecols=viz_factors_list, low_memory = False)",
      "execution_count": null,
      "outputs": []
    },
    {
      "metadata": {
        "trusted": true,
        "_uuid": "bbc2197da2fb97073f0dea6dcf5bf74f5623b157",
        "collapsed": true
      },
      "cell_type": "code",
      "source": "#AttackType\ngt_data_for_viz[\"attacktype1_txt\"].value_counts(sort=False).plot.pie()\nplt.show()",
      "execution_count": null,
      "outputs": []
    },
    {
      "metadata": {
        "trusted": true,
        "_uuid": "a181859e64c24835c37a0c2ddaaa91daffd8eaf6",
        "collapsed": true
      },
      "cell_type": "code",
      "source": "#Targ Type\ngt_data_for_viz[\"targtype1_txt\"].value_counts(sort=False).plot(kind=\"bar\")\nplt.show()",
      "execution_count": null,
      "outputs": []
    },
    {
      "metadata": {
        "trusted": true,
        "_uuid": "829e850dd411c4b3d26a6c4cb0f92b4f21b6db75",
        "collapsed": true
      },
      "cell_type": "code",
      "source": "#Weapon Type\ngt_data_for_viz[\"weaptype1_txt\"].value_counts(sort=False).plot.pie(figsize=(8, 8),fontsize=15)\nplt.show()",
      "execution_count": null,
      "outputs": []
    },
    {
      "metadata": {
        "trusted": true,
        "_uuid": "2aa6c2e022edabb281ee2714fd1a8b443de41e1e",
        "collapsed": true
      },
      "cell_type": "code",
      "source": "#Recorded Terrorist Incidents per year\ngt_data_for_viz[\"iyear\"].value_counts().sort_index().plot(figsize=(5, 5))\nplt.show()",
      "execution_count": null,
      "outputs": []
    },
    {
      "metadata": {
        "trusted": true,
        "_uuid": "6c9189d26969a2ebafd15e91acd0cab881597f97",
        "collapsed": true
      },
      "cell_type": "code",
      "source": "#Top 10 Recorded Terrorist Incidents per country\ngt_data_for_viz[\"country_txt\"].value_counts().head(10).plot(kind=\"bar\",figsize=(5, 5))\nplt.show()",
      "execution_count": null,
      "outputs": []
    },
    {
      "metadata": {
        "trusted": true,
        "_uuid": "6da6ecb33b2ab6658723b390d72f7145af42f3ca",
        "collapsed": true
      },
      "cell_type": "code",
      "source": "#Top 10 Recorded Terrorist Incidents per city\ngt_data_for_viz[\"city\"].value_counts().head(10).plot(kind=\"bar\",figsize=(5, 5))\nplt.show()",
      "execution_count": null,
      "outputs": []
    },
    {
      "metadata": {
        "trusted": true,
        "_uuid": "966a875a78c0d5b18619a900c0f706c5dc1734d2",
        "collapsed": true
      },
      "cell_type": "code",
      "source": "#Incidents resulting in Suicide\ngt_data_for_viz[\"suicide\"].value_counts().plot(kind=\"bar\",figsize=(5, 5))\nplt.show()",
      "execution_count": null,
      "outputs": []
    },
    {
      "metadata": {
        "trusted": true,
        "_uuid": "9259294dcb0423e85516da154a7f2001a2538170",
        "collapsed": true
      },
      "cell_type": "code",
      "source": "#Succesful\ngt_data_for_viz[\"success\"].value_counts().plot(kind=\"bar\",figsize=(5, 5))\nplt.show()",
      "execution_count": null,
      "outputs": []
    },
    {
      "metadata": {
        "trusted": true,
        "_uuid": "1e5555fbe3cb5893770ad838b5e89016fb4bad3c",
        "collapsed": true
      },
      "cell_type": "code",
      "source": "#Top 10 Perpetrator Groups by incidents\ngt_data_for_viz[\"gname\"].value_counts().head(10).plot(kind=\"bar\",figsize=(5, 5))\nplt.show()",
      "execution_count": null,
      "outputs": []
    },
    {
      "metadata": {
        "_uuid": "00c0f3c8d6a963cf6a885dc1fa7a4cbd988132ce"
      },
      "cell_type": "markdown",
      "source": "# 3. Training and Testing Algorithms \n*  Initialized classifcation models (Decision Tree, KNN and Random Forest)\n*  Trained classification models\n*  Tested algorithms on random samples large and small"
    },
    {
      "metadata": {
        "trusted": true,
        "_uuid": "95a6488df7f413366ec388a6522247970a5c641d",
        "collapsed": true
      },
      "cell_type": "code",
      "source": "#Initialize Classifier Models\n#Decision Tree, KNN, Random Forest\ndtree_model = DecisionTreeClassifier(max_depth = 100)\nknn_model = KNeighborsClassifier(n_neighbors=1)\nknn_hamming = KNeighborsClassifier(n_neighbors=1,p=2,metric=\"hamming\")",
      "execution_count": null,
      "outputs": []
    },
    {
      "metadata": {
        "_uuid": "71a73019fa02339d15edc608afceffc2b2cbf420"
      },
      "cell_type": "markdown",
      "source": "## Why Decision Tree?\nDT is a classification model which performs implicit feature selection and is not affected by non-linear relationships within the data. DTs create a set of rules based on the features of the data which is then used to determine the class of a test data point. Chose DT over random forest classification implementation because random forest is computationally expensive with our training data set."
    },
    {
      "metadata": {
        "trusted": true,
        "_uuid": "0443d749aac4f66f06978f1557f3670df771abad",
        "scrolled": true,
        "collapsed": true
      },
      "cell_type": "code",
      "source": "#Training Algorithms\ndtree_model.fit(training_data[predictor_factors],training_data[\"gname\"])",
      "execution_count": null,
      "outputs": []
    },
    {
      "metadata": {
        "_uuid": "f84ef27e5e9c81a9700436a814bcdda84be5226e"
      },
      "cell_type": "markdown",
      "source": "## Why K-Nearest Neighbors?\nKNN is a simple classification model that is highly dependent on the similarity between a test data point and a stored data point(the neighbor(s)) from the training data used in the model. There are multiple single class instances within our GTD dataset(e.g., One time terrorist groups, City's that have been attacked once, etc.). By setting the algorithm to classify the test data points based on the single most similar neighbor we should be able to classify those instances with high accuracy."
    },
    {
      "metadata": {
        "trusted": true,
        "_uuid": "97f53802a121d3be9d23cf03c2b63bfb4960b8a9",
        "_kg_hide-output": false,
        "_kg_hide-input": false,
        "scrolled": true,
        "collapsed": true
      },
      "cell_type": "code",
      "source": "knn_model.fit(training_data[predictor_factors],training_data[\"gname\"])",
      "execution_count": null,
      "outputs": []
    },
    {
      "metadata": {
        "trusted": true,
        "_uuid": "4ceb52cd292669348732501a790c509ecf54d3ba",
        "collapsed": true
      },
      "cell_type": "code",
      "source": "#decision tree test\ndtree_predictions = dtree_model.predict(test_data[predictor_factors])",
      "execution_count": null,
      "outputs": []
    },
    {
      "metadata": {
        "trusted": true,
        "collapsed": true,
        "_uuid": "a460ba7ac25bc3a794c5098da4e4226a2bee7ec0"
      },
      "cell_type": "code",
      "source": "#Test Unknown\ndtree_unknown = dtree_model.predict(test_unknown[predictor_factors])",
      "execution_count": null,
      "outputs": []
    },
    {
      "metadata": {
        "trusted": true,
        "_uuid": "ce8f8e79bd2090658bf1bf26373a76083ff3b02a",
        "collapsed": true
      },
      "cell_type": "code",
      "source": "#KNN test\nknn_pred = knn_model.predict(test_data[predictor_factors])",
      "execution_count": null,
      "outputs": []
    },
    {
      "metadata": {
        "trusted": true,
        "collapsed": true,
        "_uuid": "01ac227dddd36530f2d95f06e01d5821b1df488f"
      },
      "cell_type": "code",
      "source": "#KNN Unknown\nknn_unknown = knn_model.predict(test_unknown[predictor_factors])",
      "execution_count": null,
      "outputs": []
    },
    {
      "metadata": {
        "_uuid": "45c0eadbdbd919cb53535c685805a6a570529122"
      },
      "cell_type": "markdown",
      "source": "# 4. Evaluating Models\n* custom function for accuracy\n* accuracy score\n* hamming loss"
    },
    {
      "metadata": {
        "trusted": true,
        "_uuid": "0ee63895e7f0395fd919d0ffda633d0e27e16f11",
        "collapsed": true
      },
      "cell_type": "code",
      "source": "print(\"Decision Tree: \")\nprint_results(dtree_predictions,test_data,\"gname\")\nprint(\"Accuracy Score: \",accuracy_score(test_data[\"gname\"],dtree_predictions))\nprint(\"Hamming Loss: \",hamming_loss(test_data[\"gname\"],dtree_predictions))",
      "execution_count": null,
      "outputs": []
    },
    {
      "metadata": {
        "trusted": true,
        "_uuid": "95e10b8acc1eb1dab59f57bd275c43f363984da9",
        "collapsed": true
      },
      "cell_type": "code",
      "source": "print(\"Decision Tree Unknown: \")\nprint_results(dtree_unknown,test_unknown,\"gname\")\nprint(\"Accuracy Score: \",accuracy_score(test_unknown[\"gname\"],dtree_unknown))\nprint(\"Hamming Loss: \",hamming_loss(test_unknown[\"gname\"],dtree_unknown))",
      "execution_count": null,
      "outputs": []
    },
    {
      "metadata": {
        "trusted": true,
        "_uuid": "38cdbc5e320f4654cab808d618dfcba0704ae251",
        "collapsed": true
      },
      "cell_type": "code",
      "source": "print(\"KNN: \")\nprint_results(knn_pred,test_data,\"gname\")\nprint(\"Accuracy Score: \",accuracy_score(test_data[\"gname\"],knn_pred))\nprint(\"Hamming Loss: \",hamming_loss(test_data[\"gname\"],knn_pred))",
      "execution_count": null,
      "outputs": []
    },
    {
      "metadata": {
        "trusted": true,
        "_uuid": "a9a0e0c74f5787687968efebcc2109d905531fff",
        "collapsed": true
      },
      "cell_type": "code",
      "source": "print(\"KNN Unknown: \")\nprint_results(knn_unknown,test_unknown,\"gname\")\nprint(\"Accuracy Score: \",accuracy_score(test_unknown[\"gname\"],knn_unknown))\nprint(\"Hamming Loss: \",hamming_loss(test_unknown[\"gname\"],knn_unknown))",
      "execution_count": null,
      "outputs": []
    },
    {
      "metadata": {
        "_uuid": "a28bedc70a5cac99623a6f22d73a21338dba806d"
      },
      "cell_type": "markdown",
      "source": "As noted above, there are several classes with single instances. To address these instances, I refrained from using k-fold cross-validation to determine model accuracy because we would have splits that wouldn't provide an accurate representation of all classes as they appear within the data.\n\nI used a custom function in conjunction with built-in sci-kit learn classification metrics accuracy score, f1_score and haming loss. Didn't use Jaccard Similarity Score since it is equivalent to the accuracy score.\n\nTesting purely unknown perpetrators the predictive model performed almost identically given a data set with a different class distribution."
    },
    {
      "metadata": {
        "_uuid": "7222161314a38aca2682a0ecf2b864a27bd68ed0"
      },
      "cell_type": "markdown",
      "source": "# 5. Conclusion\nIn conclusion, we are able to construct a fairly accurate predictive model that can determine the perpetrator group related to an incident. By selecting and engineering the right features we are able to construct a model with upwards of 90% accuracy and downwards of 10% hamming loss."
    }
  ],
  "metadata": {
    "kernelspec": {
      "display_name": "Python 3",
      "language": "python",
      "name": "python3"
    },
    "language_info": {
      "name": "python",
      "version": "3.6.6",
      "mimetype": "text/x-python",
      "codemirror_mode": {
        "name": "ipython",
        "version": 3
      },
      "pygments_lexer": "ipython3",
      "nbconvert_exporter": "python",
      "file_extension": ".py"
    }
  },
  "nbformat": 4,
  "nbformat_minor": 1
}