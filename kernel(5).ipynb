{
 "cells": [
  {
   "cell_type": "markdown",
   "metadata": {
    "_uuid": "4510c93376e42d42c70ba525911cbd88a12998bc"
   },
   "source": [
    "## Gael Blanchard\n",
    "###  Problem: Given the Global Terrorism Data Set construct a predictive model which can determine which terrorist group is responsible for an event"
   ]
  },
  {
   "cell_type": "markdown",
   "metadata": {
    "_uuid": "d821fae5aace21b81ca2c49872382cf2a987267f"
   },
   "source": [
    "## Global Terrorism Data\n",
    "[Source: National Consortium for the Study of Terrorism and Responses to Terrorism (START). (2016). Global Terrorism Database [Data file]. Retrieved from https://www.start.umd.edu/gtd](http://www.start.umd.edu/gtd)"
   ]
  },
  {
   "cell_type": "code",
   "execution_count": 1,
   "metadata": {
    "_cell_guid": "b1076dfc-b9ad-4769-8c92-a6c4dae69d19",
    "_uuid": "8f2839f25d086af736a60e9eeb907d3b93b6e0e5"
   },
   "outputs": [],
   "source": [
    "#Required Libraries\n",
    "import numpy as np \n",
    "import pandas as pd \n",
    "from sklearn.neighbors import KNeighborsClassifier\n",
    "from sklearn.tree import DecisionTreeClassifier\n",
    "from sklearn.metrics import accuracy_score, hamming_loss\n",
    "import matplotlib.pyplot as plt"
   ]
  },
  {
   "cell_type": "code",
   "execution_count": 2,
   "metadata": {
    "_uuid": "d33b118fe0cb49324cfc02ea4ab678f22ba99459"
   },
   "outputs": [],
   "source": [
    "#Disables SettingWithCopy Warning\n",
    "pd.options.mode.chained_assignment = None\n",
    "#Set the random seed for reproducible results\n",
    "np.random.seed(0)"
   ]
  },
  {
   "cell_type": "code",
   "execution_count": 3,
   "metadata": {
    "_uuid": "6849ca9e5479032b2976fbf2050d0ed994fec272"
   },
   "outputs": [],
   "source": [
    "#Method to determine the performance of our classification models\n",
    "#Does a simple comparison of predicitons and actual calculations\n",
    "def print_results(predictions,data,desired_variable):\n",
    "\tprint(\"Results:\")\n",
    "\tprint(\"Number of mislabeled points out of a total {} points : {}, performance {:05.2f}%\"\n",
    "\t.format(\n",
    "\t\tdata.shape[0],\n",
    "\t\t(data[desired_variable] != predictions).sum(),\n",
    "\t\t100*(1-(data[desired_variable] != predictions).sum()/data.shape[0])\n",
    "\t\t)\n",
    "\t)\n",
    "    \n",
    "#method to return the head and tail frequencies\n",
    "def frequency_data(data,factors):\n",
    "    for factor in factors:\n",
    "        print(factor)\n",
    "        print(data[factor].value_counts().head())\n",
    "        #print(data[factor].value_counts().tail())"
   ]
  },
  {
   "cell_type": "markdown",
   "metadata": {
    "_uuid": "78dafa4a6f75710ce90b7a79efcd7d3e55912afd"
   },
   "source": [
    "# 1.   Data Collection\n",
    "* Read in our data from the Global Terrorism Database into a Pandas Data Frame\n",
    "* Isolated the variables we needed (10/135 available)"
   ]
  },
  {
   "cell_type": "code",
   "execution_count": 11,
   "metadata": {
    "_uuid": "ddd22afddce51329a3ddec887b378b4322d686f2"
   },
   "outputs": [],
   "source": [
    "#Isolated features for use in our classification models\n",
    "#at Data Collection stage to lower memory usage\n",
    "factors_list = [\"gname\",\"iyear\",\"country\",\"attacktype1\",\"targtype1\",\"weaptype1\",\"multiple\",\"success\",\"suicide\",\"city\"]\n",
    "global_terrorism_data = pd.read_excel(\"globalterrorismdb_0617dist.xlsx\")"
   ]
  },
  {
   "cell_type": "code",
   "execution_count": 13,
   "metadata": {
    "_uuid": "bf1cc2782ea837eb54af2e3b8db894d4e9a00e8b",
    "scrolled": true
   },
   "outputs": [
    {
     "data": {
      "text/html": [
       "<div>\n",
       "<style scoped>\n",
       "    .dataframe tbody tr th:only-of-type {\n",
       "        vertical-align: middle;\n",
       "    }\n",
       "\n",
       "    .dataframe tbody tr th {\n",
       "        vertical-align: top;\n",
       "    }\n",
       "\n",
       "    .dataframe thead th {\n",
       "        text-align: right;\n",
       "    }\n",
       "</style>\n",
       "<table border=\"1\" class=\"dataframe\">\n",
       "  <thead>\n",
       "    <tr style=\"text-align: right;\">\n",
       "      <th></th>\n",
       "      <th>gname</th>\n",
       "      <th>iyear</th>\n",
       "      <th>country</th>\n",
       "      <th>attacktype1</th>\n",
       "      <th>targtype1</th>\n",
       "      <th>weaptype1</th>\n",
       "      <th>multiple</th>\n",
       "      <th>success</th>\n",
       "      <th>suicide</th>\n",
       "      <th>city</th>\n",
       "    </tr>\n",
       "  </thead>\n",
       "  <tbody>\n",
       "    <tr>\n",
       "      <th>count</th>\n",
       "      <td>170350</td>\n",
       "      <td>170350.000000</td>\n",
       "      <td>170350.000000</td>\n",
       "      <td>170350.000000</td>\n",
       "      <td>170350.000000</td>\n",
       "      <td>170350.000000</td>\n",
       "      <td>170350.000000</td>\n",
       "      <td>170350.000000</td>\n",
       "      <td>170350.000000</td>\n",
       "      <td>169904</td>\n",
       "    </tr>\n",
       "    <tr>\n",
       "      <th>unique</th>\n",
       "      <td>3454</td>\n",
       "      <td>NaN</td>\n",
       "      <td>NaN</td>\n",
       "      <td>NaN</td>\n",
       "      <td>NaN</td>\n",
       "      <td>NaN</td>\n",
       "      <td>NaN</td>\n",
       "      <td>NaN</td>\n",
       "      <td>NaN</td>\n",
       "      <td>33957</td>\n",
       "    </tr>\n",
       "    <tr>\n",
       "      <th>top</th>\n",
       "      <td>Unknown</td>\n",
       "      <td>NaN</td>\n",
       "      <td>NaN</td>\n",
       "      <td>NaN</td>\n",
       "      <td>NaN</td>\n",
       "      <td>NaN</td>\n",
       "      <td>NaN</td>\n",
       "      <td>NaN</td>\n",
       "      <td>NaN</td>\n",
       "      <td>Unknown</td>\n",
       "    </tr>\n",
       "    <tr>\n",
       "      <th>freq</th>\n",
       "      <td>78306</td>\n",
       "      <td>NaN</td>\n",
       "      <td>NaN</td>\n",
       "      <td>NaN</td>\n",
       "      <td>NaN</td>\n",
       "      <td>NaN</td>\n",
       "      <td>NaN</td>\n",
       "      <td>NaN</td>\n",
       "      <td>NaN</td>\n",
       "      <td>9162</td>\n",
       "    </tr>\n",
       "    <tr>\n",
       "      <th>mean</th>\n",
       "      <td>NaN</td>\n",
       "      <td>2001.709997</td>\n",
       "      <td>132.526669</td>\n",
       "      <td>3.220211</td>\n",
       "      <td>8.399654</td>\n",
       "      <td>6.428576</td>\n",
       "      <td>0.134206</td>\n",
       "      <td>0.896396</td>\n",
       "      <td>0.033871</td>\n",
       "      <td>NaN</td>\n",
       "    </tr>\n",
       "    <tr>\n",
       "      <th>std</th>\n",
       "      <td>NaN</td>\n",
       "      <td>13.144146</td>\n",
       "      <td>112.848161</td>\n",
       "      <td>1.891227</td>\n",
       "      <td>6.648615</td>\n",
       "      <td>2.152366</td>\n",
       "      <td>0.340875</td>\n",
       "      <td>0.304747</td>\n",
       "      <td>0.180899</td>\n",
       "      <td>NaN</td>\n",
       "    </tr>\n",
       "    <tr>\n",
       "      <th>min</th>\n",
       "      <td>NaN</td>\n",
       "      <td>1970.000000</td>\n",
       "      <td>4.000000</td>\n",
       "      <td>1.000000</td>\n",
       "      <td>1.000000</td>\n",
       "      <td>1.000000</td>\n",
       "      <td>0.000000</td>\n",
       "      <td>0.000000</td>\n",
       "      <td>0.000000</td>\n",
       "      <td>NaN</td>\n",
       "    </tr>\n",
       "    <tr>\n",
       "      <th>25%</th>\n",
       "      <td>NaN</td>\n",
       "      <td>1990.000000</td>\n",
       "      <td>75.000000</td>\n",
       "      <td>2.000000</td>\n",
       "      <td>3.000000</td>\n",
       "      <td>5.000000</td>\n",
       "      <td>0.000000</td>\n",
       "      <td>1.000000</td>\n",
       "      <td>0.000000</td>\n",
       "      <td>NaN</td>\n",
       "    </tr>\n",
       "    <tr>\n",
       "      <th>50%</th>\n",
       "      <td>NaN</td>\n",
       "      <td>2007.000000</td>\n",
       "      <td>98.000000</td>\n",
       "      <td>3.000000</td>\n",
       "      <td>4.000000</td>\n",
       "      <td>6.000000</td>\n",
       "      <td>0.000000</td>\n",
       "      <td>1.000000</td>\n",
       "      <td>0.000000</td>\n",
       "      <td>NaN</td>\n",
       "    </tr>\n",
       "    <tr>\n",
       "      <th>75%</th>\n",
       "      <td>NaN</td>\n",
       "      <td>2014.000000</td>\n",
       "      <td>160.000000</td>\n",
       "      <td>3.000000</td>\n",
       "      <td>14.000000</td>\n",
       "      <td>6.000000</td>\n",
       "      <td>0.000000</td>\n",
       "      <td>1.000000</td>\n",
       "      <td>0.000000</td>\n",
       "      <td>NaN</td>\n",
       "    </tr>\n",
       "    <tr>\n",
       "      <th>max</th>\n",
       "      <td>NaN</td>\n",
       "      <td>2016.000000</td>\n",
       "      <td>1004.000000</td>\n",
       "      <td>9.000000</td>\n",
       "      <td>22.000000</td>\n",
       "      <td>13.000000</td>\n",
       "      <td>1.000000</td>\n",
       "      <td>1.000000</td>\n",
       "      <td>1.000000</td>\n",
       "      <td>NaN</td>\n",
       "    </tr>\n",
       "  </tbody>\n",
       "</table>\n",
       "</div>"
      ],
      "text/plain": [
       "          gname          iyear        country    attacktype1      targtype1  \\\n",
       "count    170350  170350.000000  170350.000000  170350.000000  170350.000000   \n",
       "unique     3454            NaN            NaN            NaN            NaN   \n",
       "top     Unknown            NaN            NaN            NaN            NaN   \n",
       "freq      78306            NaN            NaN            NaN            NaN   \n",
       "mean        NaN    2001.709997     132.526669       3.220211       8.399654   \n",
       "std         NaN      13.144146     112.848161       1.891227       6.648615   \n",
       "min         NaN    1970.000000       4.000000       1.000000       1.000000   \n",
       "25%         NaN    1990.000000      75.000000       2.000000       3.000000   \n",
       "50%         NaN    2007.000000      98.000000       3.000000       4.000000   \n",
       "75%         NaN    2014.000000     160.000000       3.000000      14.000000   \n",
       "max         NaN    2016.000000    1004.000000       9.000000      22.000000   \n",
       "\n",
       "            weaptype1       multiple        success        suicide     city  \n",
       "count   170350.000000  170350.000000  170350.000000  170350.000000   169904  \n",
       "unique            NaN            NaN            NaN            NaN    33957  \n",
       "top               NaN            NaN            NaN            NaN  Unknown  \n",
       "freq              NaN            NaN            NaN            NaN     9162  \n",
       "mean         6.428576       0.134206       0.896396       0.033871      NaN  \n",
       "std          2.152366       0.340875       0.304747       0.180899      NaN  \n",
       "min          1.000000       0.000000       0.000000       0.000000      NaN  \n",
       "25%          5.000000       0.000000       1.000000       0.000000      NaN  \n",
       "50%          6.000000       0.000000       1.000000       0.000000      NaN  \n",
       "75%          6.000000       0.000000       1.000000       0.000000      NaN  \n",
       "max         13.000000       1.000000       1.000000       1.000000      NaN  "
      ]
     },
     "execution_count": 13,
     "metadata": {},
     "output_type": "execute_result"
    }
   ],
   "source": [
    "#Describe the data we have just read in\n",
    "global_terrorism_data = global_terrorism_data[factors_list]\n",
    "global_terrorism_data.describe(include=\"all\")"
   ]
  },
  {
   "cell_type": "markdown",
   "metadata": {
    "_uuid": "5279fcd125b3dfff13cded69ef8653a3bdd91ce6"
   },
   "source": [
    "[This website](http://www.start.umd.edu/gtd/downloads/Codebook.pdf) provides a detail explanation of all the features in the GTD. Given the explanation within the booklet, we can isolate certain features. For example, when considering a variable for time year is the most complete whereas month and day can have 0 values when unknown. This booklet also allowed the omission of feature engineering for variables such as country_txt, attacktype1_txt, targtype1_txt, and weaptype1_txt because it has associated numerical codes which serve as factors within this program."
   ]
  },
  {
   "cell_type": "markdown",
   "metadata": {
    "_uuid": "ffe7c2622f1569565c68dc0aa6a7704b279bac59"
   },
   "source": [
    " Logic behind selecting these features:\n",
    "*  Minimal imputation (All of our features with the exception of city are complete for all rows)\n",
    "* Complete features within our data allow for logical subsets within the data which is optimal for prediciton\n",
    "* Prevent overfitting\n"
   ]
  },
  {
   "cell_type": "markdown",
   "metadata": {
    "_uuid": "5eb6b66bc116b9a42ec1dcfa00564823644008bf"
   },
   "source": [
    "# 2. Data Preparation & Exploration\n",
    "* Searched for NA data within our data\n",
    "* Determined the frequency of every variable besides year\n",
    "* Factorized city and gname variables for usage in our predictive models\n",
    "* Seperated data into known and unknown perpetrators\n",
    "* Defined our train and test sets"
   ]
  },
  {
   "cell_type": "code",
   "execution_count": 14,
   "metadata": {
    "_uuid": "9cf290de177ee783260a4072695b038145b3d716",
    "scrolled": false
   },
   "outputs": [
    {
     "name": "stdout",
     "output_type": "stream",
     "text": [
      "gname          False\n",
      "iyear          False\n",
      "country        False\n",
      "attacktype1    False\n",
      "targtype1      False\n",
      "weaptype1      False\n",
      "multiple       False\n",
      "success        False\n",
      "suicide        False\n",
      "city            True\n",
      "dtype: bool\n",
      "gname\n",
      "Unknown                                             78306\n",
      "Taliban                                              6575\n",
      "Shining Path (SL)                                    4551\n",
      "Islamic State of Iraq and the Levant (ISIL)          4287\n",
      "Farabundo Marti National Liberation Front (FMLN)     3351\n",
      "Name: gname, dtype: int64\n",
      "country\n",
      "95     22130\n",
      "153    13634\n",
      "4      11306\n",
      "92     10978\n",
      "45      8163\n",
      "Name: country, dtype: int64\n",
      "attacktype1\n",
      "3    83073\n",
      "2    40223\n",
      "1    18402\n",
      "6    10233\n",
      "7     9581\n",
      "Name: attacktype1, dtype: int64\n",
      "targtype1\n",
      "14    39994\n",
      "4     25508\n",
      "3     22938\n",
      "2     20314\n",
      "1     19873\n",
      "Name: targtype1, dtype: int64\n",
      "weaptype1\n",
      "6     86704\n",
      "5     55273\n",
      "13    13852\n",
      "8     10459\n",
      "9      3338\n",
      "Name: weaptype1, dtype: int64\n",
      "multiple\n",
      "0    147488\n",
      "1     22862\n",
      "Name: multiple, dtype: int64\n",
      "success\n",
      "1    152701\n",
      "0     17649\n",
      "Name: success, dtype: int64\n",
      "suicide\n",
      "0    164580\n",
      "1      5770\n",
      "Name: suicide, dtype: int64\n",
      "city\n",
      "Unknown    9162\n",
      "Baghdad    7206\n",
      "Karachi    2609\n",
      "Lima       2358\n",
      "Belfast    2140\n",
      "Name: city, dtype: int64\n"
     ]
    }
   ],
   "source": [
    "#Look for missing data\n",
    "missing_data = global_terrorism_data.isna().any()\n",
    "print(missing_data)\n",
    "#Recognize that our city variable has null values\n",
    "#All of our data is categorical in nature\n",
    "freq_factors = [\"gname\",\"country\",\"attacktype1\",\"targtype1\",\"weaptype1\",\"multiple\",\"success\",\"suicide\",\"city\"]\n",
    "#Frequency\n",
    "frequency_data(global_terrorism_data,freq_factors)"
   ]
  },
  {
   "cell_type": "markdown",
   "metadata": {
    "_uuid": "850dc4774c2b4a1934fd63181faba9d792011a54"
   },
   "source": [
    "Note: There are several classes with single instances"
   ]
  },
  {
   "cell_type": "code",
   "execution_count": 15,
   "metadata": {
    "_uuid": "99854f2cd64e1686325c72bc675661d0c794ea14"
   },
   "outputs": [],
   "source": [
    "#Factorizing data will remove the missing data and seperate city into classes\n",
    "#Key if we want to determine the associated perpreatator after running a prediction\n",
    "key_names = global_terrorism_data[\"gname\"].unique()\n",
    "for_factor_key_names = key_names\n",
    "key_id = pd.factorize(for_factor_key_names)[0]\n",
    "#We also factorize our variable to predict (Perpetrator Group Name)\n",
    "global_terrorism_data[\"city\"] = pd.factorize(global_terrorism_data[\"city\"])[0]\n",
    "global_terrorism_data[\"gname\"] = pd.factorize(global_terrorism_data[\"gname\"])[0]\n",
    "#Training and Test Data Sets\n",
    "training_data = global_terrorism_data\n",
    "test_data = global_terrorism_data.sample(frac=0.8, replace=False)\n",
    "test_unknown = global_terrorism_data[global_terrorism_data[\"gname\"] == 2]\n",
    "#list of factors to use for prediction\n",
    "predictor_factors = [\"iyear\",\"country\",\"attacktype1\",\"targtype1\",\"weaptype1\",\"multiple\",\"success\",\"suicide\",\"city\"]"
   ]
  },
  {
   "cell_type": "code",
   "execution_count": 16,
   "metadata": {
    "_uuid": "d508b893c06b9b86acd51d731162dc5b17dba547"
   },
   "outputs": [
    {
     "data": {
      "text/html": [
       "<div>\n",
       "<style scoped>\n",
       "    .dataframe tbody tr th:only-of-type {\n",
       "        vertical-align: middle;\n",
       "    }\n",
       "\n",
       "    .dataframe tbody tr th {\n",
       "        vertical-align: top;\n",
       "    }\n",
       "\n",
       "    .dataframe thead th {\n",
       "        text-align: right;\n",
       "    }\n",
       "</style>\n",
       "<table border=\"1\" class=\"dataframe\">\n",
       "  <thead>\n",
       "    <tr style=\"text-align: right;\">\n",
       "      <th></th>\n",
       "      <th>gname</th>\n",
       "      <th>iyear</th>\n",
       "      <th>country</th>\n",
       "      <th>attacktype1</th>\n",
       "      <th>targtype1</th>\n",
       "      <th>weaptype1</th>\n",
       "      <th>multiple</th>\n",
       "      <th>success</th>\n",
       "      <th>suicide</th>\n",
       "      <th>city</th>\n",
       "    </tr>\n",
       "  </thead>\n",
       "  <tbody>\n",
       "    <tr>\n",
       "      <th>count</th>\n",
       "      <td>170350.000000</td>\n",
       "      <td>170350.000000</td>\n",
       "      <td>170350.000000</td>\n",
       "      <td>170350.000000</td>\n",
       "      <td>170350.000000</td>\n",
       "      <td>170350.000000</td>\n",
       "      <td>170350.000000</td>\n",
       "      <td>170350.000000</td>\n",
       "      <td>170350.000000</td>\n",
       "      <td>170350.000000</td>\n",
       "    </tr>\n",
       "    <tr>\n",
       "      <th>mean</th>\n",
       "      <td>738.418855</td>\n",
       "      <td>2001.709997</td>\n",
       "      <td>132.526669</td>\n",
       "      <td>3.220211</td>\n",
       "      <td>8.399654</td>\n",
       "      <td>6.428576</td>\n",
       "      <td>0.134206</td>\n",
       "      <td>0.896396</td>\n",
       "      <td>0.033871</td>\n",
       "      <td>8829.739249</td>\n",
       "    </tr>\n",
       "    <tr>\n",
       "      <th>std</th>\n",
       "      <td>1053.472803</td>\n",
       "      <td>13.144146</td>\n",
       "      <td>112.848161</td>\n",
       "      <td>1.891227</td>\n",
       "      <td>6.648615</td>\n",
       "      <td>2.152366</td>\n",
       "      <td>0.340875</td>\n",
       "      <td>0.304747</td>\n",
       "      <td>0.180899</td>\n",
       "      <td>9488.356110</td>\n",
       "    </tr>\n",
       "    <tr>\n",
       "      <th>min</th>\n",
       "      <td>0.000000</td>\n",
       "      <td>1970.000000</td>\n",
       "      <td>4.000000</td>\n",
       "      <td>1.000000</td>\n",
       "      <td>1.000000</td>\n",
       "      <td>1.000000</td>\n",
       "      <td>0.000000</td>\n",
       "      <td>0.000000</td>\n",
       "      <td>0.000000</td>\n",
       "      <td>-1.000000</td>\n",
       "    </tr>\n",
       "    <tr>\n",
       "      <th>25%</th>\n",
       "      <td>2.000000</td>\n",
       "      <td>1990.000000</td>\n",
       "      <td>75.000000</td>\n",
       "      <td>2.000000</td>\n",
       "      <td>3.000000</td>\n",
       "      <td>5.000000</td>\n",
       "      <td>0.000000</td>\n",
       "      <td>1.000000</td>\n",
       "      <td>0.000000</td>\n",
       "      <td>547.000000</td>\n",
       "    </tr>\n",
       "    <tr>\n",
       "      <th>50%</th>\n",
       "      <td>46.000000</td>\n",
       "      <td>2007.000000</td>\n",
       "      <td>98.000000</td>\n",
       "      <td>3.000000</td>\n",
       "      <td>4.000000</td>\n",
       "      <td>6.000000</td>\n",
       "      <td>0.000000</td>\n",
       "      <td>1.000000</td>\n",
       "      <td>0.000000</td>\n",
       "      <td>4670.000000</td>\n",
       "    </tr>\n",
       "    <tr>\n",
       "      <th>75%</th>\n",
       "      <td>1278.000000</td>\n",
       "      <td>2014.000000</td>\n",
       "      <td>160.000000</td>\n",
       "      <td>3.000000</td>\n",
       "      <td>14.000000</td>\n",
       "      <td>6.000000</td>\n",
       "      <td>0.000000</td>\n",
       "      <td>1.000000</td>\n",
       "      <td>0.000000</td>\n",
       "      <td>16100.750000</td>\n",
       "    </tr>\n",
       "    <tr>\n",
       "      <th>max</th>\n",
       "      <td>3453.000000</td>\n",
       "      <td>2016.000000</td>\n",
       "      <td>1004.000000</td>\n",
       "      <td>9.000000</td>\n",
       "      <td>22.000000</td>\n",
       "      <td>13.000000</td>\n",
       "      <td>1.000000</td>\n",
       "      <td>1.000000</td>\n",
       "      <td>1.000000</td>\n",
       "      <td>33956.000000</td>\n",
       "    </tr>\n",
       "  </tbody>\n",
       "</table>\n",
       "</div>"
      ],
      "text/plain": [
       "               gname          iyear        country    attacktype1  \\\n",
       "count  170350.000000  170350.000000  170350.000000  170350.000000   \n",
       "mean      738.418855    2001.709997     132.526669       3.220211   \n",
       "std      1053.472803      13.144146     112.848161       1.891227   \n",
       "min         0.000000    1970.000000       4.000000       1.000000   \n",
       "25%         2.000000    1990.000000      75.000000       2.000000   \n",
       "50%        46.000000    2007.000000      98.000000       3.000000   \n",
       "75%      1278.000000    2014.000000     160.000000       3.000000   \n",
       "max      3453.000000    2016.000000    1004.000000       9.000000   \n",
       "\n",
       "           targtype1      weaptype1       multiple        success  \\\n",
       "count  170350.000000  170350.000000  170350.000000  170350.000000   \n",
       "mean        8.399654       6.428576       0.134206       0.896396   \n",
       "std         6.648615       2.152366       0.340875       0.304747   \n",
       "min         1.000000       1.000000       0.000000       0.000000   \n",
       "25%         3.000000       5.000000       0.000000       1.000000   \n",
       "50%         4.000000       6.000000       0.000000       1.000000   \n",
       "75%        14.000000       6.000000       0.000000       1.000000   \n",
       "max        22.000000      13.000000       1.000000       1.000000   \n",
       "\n",
       "             suicide           city  \n",
       "count  170350.000000  170350.000000  \n",
       "mean        0.033871    8829.739249  \n",
       "std         0.180899    9488.356110  \n",
       "min         0.000000      -1.000000  \n",
       "25%         0.000000     547.000000  \n",
       "50%         0.000000    4670.000000  \n",
       "75%         0.000000   16100.750000  \n",
       "max         1.000000   33956.000000  "
      ]
     },
     "execution_count": 16,
     "metadata": {},
     "output_type": "execute_result"
    }
   ],
   "source": [
    "#Looking at our data post preparation\n",
    "#Notice now that our data is now fully representated as numerical values\n",
    "global_terrorism_data.describe()"
   ]
  },
  {
   "cell_type": "markdown",
   "metadata": {
    "_uuid": "b35d2b259b1f4d68f0e9f0899b3c5128d25ebc5f"
   },
   "source": [
    "## Data Visulaizations"
   ]
  },
  {
   "cell_type": "code",
   "execution_count": 18,
   "metadata": {
    "_uuid": "e3117737fd3e7edd47340d74dc2aa476ced6c41d"
   },
   "outputs": [],
   "source": [
    "viz_factors_list = [\"gname\",\"iyear\",\"country_txt\",\"attacktype1_txt\",\"targtype1_txt\",\"weaptype1_txt\",\"multiple\",\"success\",\"suicide\",\"city\"]\n",
    "gt_data_for_viz = pd.read_excel(\"globalterrorismdb_0617dist.xlsx\")\n",
    "gt_data_for_viz = gt_data_for_viz[viz_factors_list]"
   ]
  },
  {
   "cell_type": "code",
   "execution_count": 19,
   "metadata": {
    "_uuid": "bbc2197da2fb97073f0dea6dcf5bf74f5623b157"
   },
   "outputs": [
    {
     "data": {
      "image/png": "[encoded data removed]",
      "text/plain": [
       "<matplotlib.figure.Figure at 0x123f00390>"
      ]
     },
     "metadata": {},
     "output_type": "display_data"
    }
   ],
   "source": [
    "#AttackType\n",
    "gt_data_for_viz[\"attacktype1_txt\"].value_counts(sort=False).plot.pie()\n",
    "plt.show()"
   ]
  },
  {
   "cell_type": "code",
   "execution_count": 20,
   "metadata": {
    "_uuid": "a181859e64c24835c37a0c2ddaaa91daffd8eaf6"
   },
   "outputs": [
    {
     "data": {
      "image/png": "[encoded data removed]",
      "text/plain": [
       "<matplotlib.figure.Figure at 0x123c5d8d0>"
      ]
     },
     "metadata": {},
     "output_type": "display_data"
    }
   ],
   "source": [
    "#Targ Type\n",
    "gt_data_for_viz[\"targtype1_txt\"].value_counts(sort=False).plot(kind=\"bar\")\n",
    "plt.show()"
   ]
  },
  {
   "cell_type": "code",
   "execution_count": 21,
   "metadata": {
    "_uuid": "829e850dd411c4b3d26a6c4cb0f92b4f21b6db75"
   },
   "outputs": [
    {
     "data": {
      "image/png": "[encoded data removed]",
      "text/plain": [
       "<matplotlib.figure.Figure at 0x120ec9710>"
      ]
     },
     "metadata": {},
     "output_type": "display_data"
    }
   ],
   "source": [
    "#Weapon Type\n",
    "gt_data_for_viz[\"weaptype1_txt\"].value_counts(sort=False).plot.pie(figsize=(8, 8),fontsize=15)\n",
    "plt.show()"
   ]
  },
  {
   "cell_type": "code",
   "execution_count": 22,
   "metadata": {
    "_uuid": "2aa6c2e022edabb281ee2714fd1a8b443de41e1e"
   },
   "outputs": [
    {
     "data": {
      "image/png": "[encoded data removed]",
      "text/plain": [
       "<matplotlib.figure.Figure at 0x123cb1ba8>"
      ]
     },
     "metadata": {},
     "output_type": "display_data"
    }
   ],
   "source": [
    "#Recorded Terrorist Incidents per year\n",
    "gt_data_for_viz[\"iyear\"].value_counts().sort_index().plot(figsize=(5, 5))\n",
    "plt.show()"
   ]
  },
  {
   "cell_type": "code",
   "execution_count": 23,
   "metadata": {
    "_uuid": "6c9189d26969a2ebafd15e91acd0cab881597f97"
   },
   "outputs": [
    {
     "data": {
      "image/png": "[encoded data removed]",
      "text/plain": [
       "<matplotlib.figure.Figure at 0x122aaebe0>"
      ]
     },
     "metadata": {},
     "output_type": "display_data"
    }
   ],
   "source": [
    "#Top 10 Recorded Terrorist Incidents per country\n",
    "gt_data_for_viz[\"country_txt\"].value_counts().head(10).plot(kind=\"bar\",figsize=(5, 5))\n",
    "plt.show()"
   ]
  },
  {
   "cell_type": "code",
   "execution_count": 24,
   "metadata": {
    "_uuid": "6da6ecb33b2ab6658723b390d72f7145af42f3ca"
   },
   "outputs": [
    {
     "data": {
      "image/png": "[encoded data removed]",
      "text/plain": [
       "<matplotlib.figure.Figure at 0x12f372160>"
      ]
     },
     "metadata": {},
     "output_type": "display_data"
    }
   ],
   "source": [
    "#Top 10 Recorded Terrorist Incidents per city\n",
    "gt_data_for_viz[\"city\"].value_counts().head(10).plot(kind=\"bar\",figsize=(5, 5))\n",
    "plt.show()"
   ]
  },
  {
   "cell_type": "code",
   "execution_count": 25,
   "metadata": {
    "_uuid": "966a875a78c0d5b18619a900c0f706c5dc1734d2"
   },
   "outputs": [
    {
     "data": {
      "image/png": "[encoded data removed]",
      "text/plain": [
       "<matplotlib.figure.Figure at 0x122425c18>"
      ]
     },
     "metadata": {},
     "output_type": "display_data"
    }
   ],
   "source": [
    "#Incidents resulting in Suicide\n",
    "gt_data_for_viz[\"suicide\"].value_counts().plot(kind=\"bar\",figsize=(5, 5))\n",
    "plt.show()"
   ]
  },
  {
   "cell_type": "code",
   "execution_count": 26,
   "metadata": {
    "_uuid": "9259294dcb0423e85516da154a7f2001a2538170"
   },
   "outputs": [
    {
     "data": {
      "image/png": "[encoded data removed]",
      "text/plain": [
       "<matplotlib.figure.Figure at 0x123cb60f0>"
      ]
     },
     "metadata": {},
     "output_type": "display_data"
    }
   ],
   "source": [
    "#Succesful\n",
    "gt_data_for_viz[\"success\"].value_counts().plot(kind=\"bar\",figsize=(5, 5))\n",
    "plt.show()"
   ]
  },
  {
   "cell_type": "code",
   "execution_count": 27,
   "metadata": {
    "_uuid": "1e5555fbe3cb5893770ad838b5e89016fb4bad3c"
   },
   "outputs": [
    {
     "data": {
      "image/png": "[encoded data removed]",
      "text/plain": [
       "<matplotlib.figure.Figure at 0x123c7a048>"
      ]
     },
     "metadata": {},
     "output_type": "display_data"
    }
   ],
   "source": [
    "#Top 10 Perpetrator Groups by incidents\n",
    "gt_data_for_viz[\"gname\"].value_counts().head(10).plot(kind=\"bar\",figsize=(5, 5))\n",
    "plt.show()"
   ]
  },
  {
   "cell_type": "markdown",
   "metadata": {},
   "source": [
    "Note: With these visualizations, notice how features in the data can partition the data into smaller and unique subsets"
   ]
  },
  {
   "cell_type": "markdown",
   "metadata": {
    "_uuid": "00c0f3c8d6a963cf6a885dc1fa7a4cbd988132ce"
   },
   "source": [
    "# 3. Training and Testing Algorithms \n",
    "*  Initialized classifcation models (Decision Tree, KNN and Random Forest)\n",
    "*  Trained classification models\n",
    "*  Tested algorithms on random samples large and small"
   ]
  },
  {
   "cell_type": "code",
   "execution_count": 28,
   "metadata": {
    "_uuid": "95a6488df7f413366ec388a6522247970a5c641d"
   },
   "outputs": [],
   "source": [
    "#Initialize Classifier Models\n",
    "#Decision Tree, KNN, Random Forest\n",
    "dtree_model = DecisionTreeClassifier(max_depth = 100)\n",
    "knn_model = KNeighborsClassifier(n_neighbors=1)\n",
    "knn_hamming = KNeighborsClassifier(n_neighbors=1,p=2,metric=\"hamming\")"
   ]
  },
  {
   "cell_type": "markdown",
   "metadata": {
    "_uuid": "71a73019fa02339d15edc608afceffc2b2cbf420"
   },
   "source": [
    "## Why Decision Tree?\n",
    "DT is a classification model which performs implicit feature selection and is not affected by non-linear relationships within the data. DTs create a set of rules based on the features of the data which is then used to determine the class of a test data point. Chose DT over random forest classification implementation because random forest is computationally expensive with our training data set."
   ]
  },
  {
   "cell_type": "code",
   "execution_count": 29,
   "metadata": {
    "_uuid": "0443d749aac4f66f06978f1557f3670df771abad",
    "scrolled": true
   },
   "outputs": [
    {
     "data": {
      "text/plain": [
       "DecisionTreeClassifier(class_weight=None, criterion='gini', max_depth=100,\n",
       "            max_features=None, max_leaf_nodes=None,\n",
       "            min_impurity_decrease=0.0, min_impurity_split=None,\n",
       "            min_samples_leaf=1, min_samples_split=2,\n",
       "            min_weight_fraction_leaf=0.0, presort=False, random_state=None,\n",
       "            splitter='best')"
      ]
     },
     "execution_count": 29,
     "metadata": {},
     "output_type": "execute_result"
    }
   ],
   "source": [
    "#Training Algorithms\n",
    "dtree_model.fit(training_data[predictor_factors],training_data[\"gname\"])"
   ]
  },
  {
   "cell_type": "markdown",
   "metadata": {
    "_uuid": "f84ef27e5e9c81a9700436a814bcdda84be5226e"
   },
   "source": [
    "## Why K-Nearest Neighbors?\n",
    "KNN is a simple classification model that is highly dependent on the similarity between a test data point and a stored data point(the neighbor(s)) from the training data used in the model. There are multiple single class instances within our GTD dataset(e.g., One time terrorist groups, City's that have been attacked once, etc.). By setting the algorithm to classify the test data points based on the single most similar neighbor we should be able to classify those instances with high accuracy."
   ]
  },
  {
   "cell_type": "code",
   "execution_count": 30,
   "metadata": {
    "_kg_hide-input": false,
    "_kg_hide-output": false,
    "_uuid": "97f53802a121d3be9d23cf03c2b63bfb4960b8a9",
    "scrolled": true
   },
   "outputs": [
    {
     "data": {
      "text/plain": [
       "KNeighborsClassifier(algorithm='auto', leaf_size=30, metric='minkowski',\n",
       "           metric_params=None, n_jobs=1, n_neighbors=1, p=2,\n",
       "           weights='uniform')"
      ]
     },
     "execution_count": 30,
     "metadata": {},
     "output_type": "execute_result"
    }
   ],
   "source": [
    "knn_model.fit(training_data[predictor_factors],training_data[\"gname\"])"
   ]
  },
  {
   "cell_type": "code",
   "execution_count": 31,
   "metadata": {
    "_uuid": "4ceb52cd292669348732501a790c509ecf54d3ba"
   },
   "outputs": [],
   "source": [
    "#decision tree test\n",
    "dtree_predictions = dtree_model.predict(test_data[predictor_factors])"
   ]
  },
  {
   "cell_type": "code",
   "execution_count": 32,
   "metadata": {
    "_uuid": "a460ba7ac25bc3a794c5098da4e4226a2bee7ec0"
   },
   "outputs": [],
   "source": [
    "#Test Unknown\n",
    "dtree_unknown = dtree_model.predict(test_unknown[predictor_factors])"
   ]
  },
  {
   "cell_type": "code",
   "execution_count": 33,
   "metadata": {
    "_uuid": "ce8f8e79bd2090658bf1bf26373a76083ff3b02a"
   },
   "outputs": [],
   "source": [
    "#KNN test\n",
    "knn_pred = knn_model.predict(test_data[predictor_factors])"
   ]
  },
  {
   "cell_type": "code",
   "execution_count": 34,
   "metadata": {
    "_uuid": "01ac227dddd36530f2d95f06e01d5821b1df488f"
   },
   "outputs": [],
   "source": [
    "#KNN Unknown\n",
    "knn_unknown = knn_model.predict(test_unknown[predictor_factors])"
   ]
  },
  {
   "cell_type": "markdown",
   "metadata": {
    "_uuid": "45c0eadbdbd919cb53535c685805a6a570529122"
   },
   "source": [
    "# 4. Evaluating Models\n",
    "* custom function for accuracy\n",
    "* accuracy score\n",
    "* hamming loss"
   ]
  },
  {
   "cell_type": "code",
   "execution_count": 35,
   "metadata": {
    "_uuid": "0ee63895e7f0395fd919d0ffda633d0e27e16f11"
   },
   "outputs": [
    {
     "name": "stdout",
     "output_type": "stream",
     "text": [
      "Decision Tree: \n",
      "Results:\n",
      "Number of mislabeled points out of a total 136280 points : 8101, performance 94.06%\n",
      "Accuracy Score:  0.940556207807\n",
      "Hamming Loss:  0.0594437921925\n"
     ]
    }
   ],
   "source": [
    "print(\"Decision Tree: \")\n",
    "print_results(dtree_predictions,test_data,\"gname\")\n",
    "print(\"Accuracy Score: \",accuracy_score(test_data[\"gname\"],dtree_predictions))\n",
    "print(\"Hamming Loss: \",hamming_loss(test_data[\"gname\"],dtree_predictions))"
   ]
  },
  {
   "cell_type": "code",
   "execution_count": 36,
   "metadata": {
    "_uuid": "95e10b8acc1eb1dab59f57bd275c43f363984da9"
   },
   "outputs": [
    {
     "name": "stdout",
     "output_type": "stream",
     "text": [
      "Decision Tree Unknown: \n",
      "Results:\n",
      "Number of mislabeled points out of a total 78306 points : 1722, performance 97.80%\n",
      "Accuracy Score:  0.978009347943\n",
      "Hamming Loss:  0.0219906520573\n"
     ]
    }
   ],
   "source": [
    "print(\"Decision Tree Unknown: \")\n",
    "print_results(dtree_unknown,test_unknown,\"gname\")\n",
    "print(\"Accuracy Score: \",accuracy_score(test_unknown[\"gname\"],dtree_unknown))\n",
    "print(\"Hamming Loss: \",hamming_loss(test_unknown[\"gname\"],dtree_unknown))"
   ]
  },
  {
   "cell_type": "code",
   "execution_count": 37,
   "metadata": {
    "_uuid": "38cdbc5e320f4654cab808d618dfcba0704ae251"
   },
   "outputs": [
    {
     "name": "stdout",
     "output_type": "stream",
     "text": [
      "KNN: \n",
      "Results:\n",
      "Number of mislabeled points out of a total 136280 points : 10667, performance 92.17%\n",
      "Accuracy Score:  0.921727326093\n",
      "Hamming Loss:  0.0782726739067\n"
     ]
    }
   ],
   "source": [
    "print(\"KNN: \")\n",
    "print_results(knn_pred,test_data,\"gname\")\n",
    "print(\"Accuracy Score: \",accuracy_score(test_data[\"gname\"],knn_pred))\n",
    "print(\"Hamming Loss: \",hamming_loss(test_data[\"gname\"],knn_pred))"
   ]
  },
  {
   "cell_type": "code",
   "execution_count": 38,
   "metadata": {
    "_uuid": "a9a0e0c74f5787687968efebcc2109d905531fff"
   },
   "outputs": [
    {
     "name": "stdout",
     "output_type": "stream",
     "text": [
      "KNN Unknown: \n",
      "Results:\n",
      "Number of mislabeled points out of a total 78306 points : 5334, performance 93.19%\n",
      "Accuracy Score:  0.931882614359\n",
      "Hamming Loss:  0.0681173856409\n"
     ]
    }
   ],
   "source": [
    "print(\"KNN Unknown: \")\n",
    "print_results(knn_unknown,test_unknown,\"gname\")\n",
    "print(\"Accuracy Score: \",accuracy_score(test_unknown[\"gname\"],knn_unknown))\n",
    "print(\"Hamming Loss: \",hamming_loss(test_unknown[\"gname\"],knn_unknown))"
   ]
  },
  {
   "cell_type": "markdown",
   "metadata": {
    "_uuid": "a28bedc70a5cac99623a6f22d73a21338dba806d"
   },
   "source": [
    "As noted above, there are several classes with single instances. To address these instances, I refrained from using k-fold cross-validation to determine model accuracy because we would have splits that wouldn't provide an accurate representation of all classes as they appear within the data.\n",
    "\n",
    "I used a custom function in conjunction with built-in sci-kit learn classification metrics accuracy score, f1_score and haming loss. Didn't use Jaccard Similarity Score since it is equivalent to the accuracy score.\n",
    "\n",
    "Testing purely unknown perpetrators the predictive model performed almost identically given a data set with a different class distribution."
   ]
  },
  {
   "cell_type": "markdown",
   "metadata": {
    "_uuid": "7222161314a38aca2682a0ecf2b864a27bd68ed0"
   },
   "source": [
    "# 5. Conclusion\n",
    "In conclusion, we are able to construct a fairly accurate predictive model that can determine the perpetrator group related to an incident. By selecting and engineering the right features we are able to construct a model with upwards of 90% accuracy and downwards of 10% hamming loss."
   ]
  }
 ],
 "metadata": {
  "kernelspec": {
   "display_name": "Python 3",
   "language": "python",
   "name": "python3"
  },
  "language_info": {
   "codemirror_mode": {
    "name": "ipython",
    "version": 3
   },
   "file_extension": ".py",
   "mimetype": "text/x-python",
   "name": "python",
   "nbconvert_exporter": "python",
   "pygments_lexer": "ipython3",
   "version": "3.6.5"
  }
 },
 "nbformat": 4,
 "nbformat_minor": 1
}
