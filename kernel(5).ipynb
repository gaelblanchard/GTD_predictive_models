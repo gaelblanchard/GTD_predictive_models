{
 "cells": [
  {
   "cell_type": "markdown",
   "metadata": {
    "_uuid": "4510c93376e42d42c70ba525911cbd88a12998bc"
   },
   "source": [
    "## Gael Blanchard\n",
    "###  Problem: Given the Global Terrorism Data Set construct a predictive model which can determine which terrorist group is responsible for an event"
   ]
  },
  {
   "cell_type": "markdown",
   "metadata": {
    "_uuid": "d821fae5aace21b81ca2c49872382cf2a987267f"
   },
   "source": [
    "## Global Terrorism Data\n",
    "[Source: National Consortium for the Study of Terrorism and Responses to Terrorism (START). (2016). Global Terrorism Database [Data file]. Retrieved from https://www.start.umd.edu/gtd](http://www.start.umd.edu/gtd)"
   ]
  },
  {
   "cell_type": "code",
   "execution_count": 101,
   "metadata": {
    "_cell_guid": "b1076dfc-b9ad-4769-8c92-a6c4dae69d19",
    "_uuid": "8f2839f25d086af736a60e9eeb907d3b93b6e0e5"
   },
   "outputs": [],
   "source": [
    "#Required Libraries\n",
    "import numpy as np \n",
    "import pandas as pd \n",
    "from sklearn.neighbors import KNeighborsClassifier\n",
    "from sklearn.neighbors import NearestNeighbors\n",
    "from sklearn.tree import DecisionTreeClassifier\n",
    "import graphviz\n",
    "from sklearn.metrics import accuracy_score, hamming_loss\n",
    "import matplotlib.pyplot as plt"
   ]
  },
  {
   "cell_type": "code",
   "execution_count": 102,
   "metadata": {
    "_uuid": "d33b118fe0cb49324cfc02ea4ab678f22ba99459"
   },
   "outputs": [],
   "source": [
    "#Disables SettingWithCopy Warning\n",
    "pd.options.mode.chained_assignment = None\n",
    "#Set the random seed for reproducible results\n",
    "np.random.seed(0)"
   ]
  },
  {
   "cell_type": "markdown",
   "metadata": {
    "_uuid": "78dafa4a6f75710ce90b7a79efcd7d3e55912afd"
   },
   "source": [
    "# 1.   Data Collection\n",
    "* Read in our data from the Global Terrorism Database into a Pandas Data Frame\n",
    "* Isolated the variables we needed (10/135 available)"
   ]
  },
  {
   "cell_type": "code",
   "execution_count": 103,
   "metadata": {
    "_uuid": "ddd22afddce51329a3ddec887b378b4322d686f2"
   },
   "outputs": [],
   "source": [
    "#Isolated features for use in our classification models\n",
    "#at Data Collection stage to lower memory usage\n",
    "global_terrorism_data = pd.read_excel(\"globalterrorismdb_0617dist.xlsx\")"
   ]
  },
  {
   "cell_type": "code",
   "execution_count": 104,
   "metadata": {},
   "outputs": [
    {
     "name": "stdout",
     "output_type": "stream",
     "text": [
      "False   eventid\n",
      "False   iyear\n",
      "False   imonth\n",
      "False   iday\n",
      "True   approxdate\n",
      "False   extended\n",
      "True   resolution\n",
      "False   country\n",
      "False   country_txt\n",
      "False   region\n",
      "False   region_txt\n",
      "True   provstate\n",
      "True   city\n",
      "True   latitude\n",
      "True   longitude\n",
      "True   specificity\n",
      "False   vicinity\n",
      "True   location\n",
      "True   summary\n",
      "False   crit1\n",
      "False   crit2\n",
      "False   crit3\n",
      "False   doubtterr\n",
      "True   alternative\n",
      "True   alternative_txt\n",
      "False   multiple\n",
      "False   success\n",
      "False   suicide\n",
      "False   attacktype1\n",
      "False   attacktype1_txt\n",
      "True   attacktype2\n",
      "True   attacktype2_txt\n",
      "True   attacktype3\n",
      "True   attacktype3_txt\n",
      "False   targtype1\n",
      "False   targtype1_txt\n",
      "True   targsubtype1\n",
      "True   targsubtype1_txt\n",
      "True   corp1\n",
      "True   target1\n",
      "True   natlty1\n",
      "True   natlty1_txt\n",
      "True   targtype2\n",
      "True   targtype2_txt\n",
      "True   targsubtype2\n",
      "True   targsubtype2_txt\n",
      "True   corp2\n",
      "True   target2\n",
      "True   natlty2\n",
      "True   natlty2_txt\n",
      "True   targtype3\n",
      "True   targtype3_txt\n",
      "True   targsubtype3\n",
      "True   targsubtype3_txt\n",
      "True   corp3\n",
      "True   target3\n",
      "True   natlty3\n",
      "True   natlty3_txt\n",
      "False   gname\n",
      "True   gsubname\n",
      "True   gname2\n",
      "True   gsubname2\n",
      "True   gname3\n",
      "True   gsubname3\n",
      "True   motive\n",
      "True   guncertain1\n",
      "True   guncertain2\n",
      "True   guncertain3\n",
      "False   individual\n",
      "True   nperps\n",
      "True   nperpcap\n",
      "True   claimed\n",
      "True   claimmode\n",
      "True   claimmode_txt\n",
      "True   claim2\n",
      "True   claimmode2\n",
      "True   claimmode2_txt\n",
      "True   claim3\n",
      "True   claimmode3\n",
      "True   claimmode3_txt\n",
      "True   compclaim\n",
      "False   weaptype1\n",
      "False   weaptype1_txt\n",
      "True   weapsubtype1\n",
      "True   weapsubtype1_txt\n",
      "True   weaptype2\n",
      "True   weaptype2_txt\n",
      "True   weapsubtype2\n",
      "True   weapsubtype2_txt\n",
      "True   weaptype3\n",
      "True   weaptype3_txt\n",
      "True   weapsubtype3\n",
      "True   weapsubtype3_txt\n",
      "True   weaptype4\n",
      "True   weaptype4_txt\n",
      "True   weapsubtype4\n",
      "True   weapsubtype4_txt\n",
      "True   weapdetail\n",
      "True   nkill\n",
      "True   nkillus\n",
      "True   nkillter\n",
      "True   nwound\n",
      "True   nwoundus\n",
      "True   nwoundte\n",
      "False   property\n",
      "True   propextent\n",
      "True   propextent_txt\n",
      "True   propvalue\n",
      "True   propcomment\n",
      "True   ishostkid\n",
      "True   nhostkid\n",
      "True   nhostkidus\n",
      "True   nhours\n",
      "True   ndays\n",
      "True   divert\n",
      "True   kidhijcountry\n",
      "True   ransom\n",
      "True   ransomamt\n",
      "True   ransomamtus\n",
      "True   ransompaid\n",
      "True   ransompaidus\n",
      "True   ransomnote\n",
      "True   hostkidoutcome\n",
      "True   hostkidoutcome_txt\n",
      "True   nreleased\n",
      "True   addnotes\n",
      "True   scite1\n",
      "True   scite2\n",
      "True   scite3\n",
      "False   dbsource\n",
      "False   INT_LOG\n",
      "False   INT_IDEO\n",
      "False   INT_MISC\n",
      "False   INT_ANY\n",
      "True   related\n"
     ]
    }
   ],
   "source": [
    "#Prelimanary Feature Selection\n",
    "#determine our most complete data sets\n",
    "column_names = global_terrorism_data.columns.values\n",
    "missing_data = global_terrorism_data.isna().any()\n",
    "value = 0\n",
    "for data in missing_data:\n",
    "    if not data:\n",
    "        print(data,\" \",column_names[value])\n",
    "        value = value + 1\n",
    "    else:\n",
    "        print(data,\" \",column_names[value])\n",
    "        value = value + 1\n"
   ]
  },
  {
   "cell_type": "markdown",
   "metadata": {},
   "source": [
    "To classify a terrorist incident we want to gather the most complete and desciptive features within our data. We want to answer who(targtype1,targtype1_txt,targsubtype1,targsubtype1_txt,corp1,target1,natlty1,natlty1_txt,targtype2,targtype2_txt,targsubtype2,targsubtype2_txt,corp2,target2,natlty2,natlty2_txt,targtype3_txt,corp3,target3,natlty3,natlty3_txt,gname,gsubname.gname2,gsubname2,gname3,gsubname3,guncertain1,guncertain2,guncertain3,individual,nperps,nperpcap,claimed,nkill,nkillus,nkillter,nwound,nwoundus,nwoundte,property,propextent,propextent_txt,propcomment,ishostkid,nhostkid,nhostkidus,addnotes), what(eventid,resolution,summary,doubterr,alternative,alternative_txt,multiple,success,suicide,attacktype1,attacktype1_txt,attacktype2,attacktype2_txt,attacktype3_txt,claimed,claimmode,claimmode_txt,claim2,claimmode2,claimmode2_txt,claim3,claimmode3,claimmode3_txt,compclaim,hostkidoutcome,hostkidoutcome_txt,nreleased,INT_IDEO,INT_MISC,INT_ANY), when (iyear,imonth,iday,approxdate,extended,nhours,ndays,ransom,ransomamt,ransomamtus,ransompaid,ransompaidus,ransomnote), where(country,country_txt,region,region_txt,provstate,city,latitude,longitude,specificity,vicinity,location,divert,kidhijcountry), why(crit1,crit2,crit3,motive) and how(weaptype1,weaptype1_txt,weapsubtype1,weapsubtype1_txt,weaptype2,weaptype2_txt,weapsubtype2,weapsubtype2_txt,weaptype3,weaptype3_txt,weapsubtype3,weapsubtype3_txt,weaptype4,weaptype4_txt,weapsubtype4,weapsubtype4_txt,weapdetail,INT_LOG,INT_IDEO).\n",
    "We ignore all other variables (scite1,scite2,scite3,dbsource)"
   ]
  },
  {
   "cell_type": "code",
   "execution_count": 105,
   "metadata": {},
   "outputs": [],
   "source": [
    "factors_list = [\"gname\",\"eventid\",\"extended\",\"provstate\",\"iyear\",\"country\",\"attacktype1\",\"targtype1\",\"weaptype1\",\"multiple\",\"success\",\"suicide\",\"city\"]\n",
    "viz_factors_list = [\"gname\",\"iyear\",\"extended\",\"country_txt\",\"attacktype1_txt\",\"targtype1_txt\",\"weaptype1_txt\",\"multiple\",\"success\",\"suicide\",\"city\"]"
   ]
  },
  {
   "cell_type": "code",
   "execution_count": 106,
   "metadata": {
    "_uuid": "bf1cc2782ea837eb54af2e3b8db894d4e9a00e8b",
    "scrolled": true
   },
   "outputs": [
    {
     "data": {
      "text/html": [
       "<div>\n",
       "<style scoped>\n",
       "    .dataframe tbody tr th:only-of-type {\n",
       "        vertical-align: middle;\n",
       "    }\n",
       "\n",
       "    .dataframe tbody tr th {\n",
       "        vertical-align: top;\n",
       "    }\n",
       "\n",
       "    .dataframe thead th {\n",
       "        text-align: right;\n",
       "    }\n",
       "</style>\n",
       "<table border=\"1\" class=\"dataframe\">\n",
       "  <thead>\n",
       "    <tr style=\"text-align: right;\">\n",
       "      <th></th>\n",
       "      <th>gname</th>\n",
       "      <th>iyear</th>\n",
       "      <th>extended</th>\n",
       "      <th>country_txt</th>\n",
       "      <th>attacktype1_txt</th>\n",
       "      <th>targtype1_txt</th>\n",
       "      <th>weaptype1_txt</th>\n",
       "      <th>multiple</th>\n",
       "      <th>success</th>\n",
       "      <th>suicide</th>\n",
       "      <th>city</th>\n",
       "    </tr>\n",
       "  </thead>\n",
       "  <tbody>\n",
       "    <tr>\n",
       "      <th>count</th>\n",
       "      <td>170350</td>\n",
       "      <td>170350.000000</td>\n",
       "      <td>170350.000000</td>\n",
       "      <td>170350</td>\n",
       "      <td>170350</td>\n",
       "      <td>170350</td>\n",
       "      <td>170350</td>\n",
       "      <td>170350.000000</td>\n",
       "      <td>170350.000000</td>\n",
       "      <td>170350.000000</td>\n",
       "      <td>169904</td>\n",
       "    </tr>\n",
       "    <tr>\n",
       "      <th>unique</th>\n",
       "      <td>3454</td>\n",
       "      <td>NaN</td>\n",
       "      <td>NaN</td>\n",
       "      <td>205</td>\n",
       "      <td>9</td>\n",
       "      <td>22</td>\n",
       "      <td>12</td>\n",
       "      <td>NaN</td>\n",
       "      <td>NaN</td>\n",
       "      <td>NaN</td>\n",
       "      <td>33957</td>\n",
       "    </tr>\n",
       "    <tr>\n",
       "      <th>top</th>\n",
       "      <td>Unknown</td>\n",
       "      <td>NaN</td>\n",
       "      <td>NaN</td>\n",
       "      <td>Iraq</td>\n",
       "      <td>Bombing/Explosion</td>\n",
       "      <td>Private Citizens &amp; Property</td>\n",
       "      <td>Explosives/Bombs/Dynamite</td>\n",
       "      <td>NaN</td>\n",
       "      <td>NaN</td>\n",
       "      <td>NaN</td>\n",
       "      <td>Unknown</td>\n",
       "    </tr>\n",
       "    <tr>\n",
       "      <th>freq</th>\n",
       "      <td>78306</td>\n",
       "      <td>NaN</td>\n",
       "      <td>NaN</td>\n",
       "      <td>22130</td>\n",
       "      <td>83073</td>\n",
       "      <td>39994</td>\n",
       "      <td>86704</td>\n",
       "      <td>NaN</td>\n",
       "      <td>NaN</td>\n",
       "      <td>NaN</td>\n",
       "      <td>9162</td>\n",
       "    </tr>\n",
       "    <tr>\n",
       "      <th>mean</th>\n",
       "      <td>NaN</td>\n",
       "      <td>2001.709997</td>\n",
       "      <td>0.043634</td>\n",
       "      <td>NaN</td>\n",
       "      <td>NaN</td>\n",
       "      <td>NaN</td>\n",
       "      <td>NaN</td>\n",
       "      <td>0.134206</td>\n",
       "      <td>0.896396</td>\n",
       "      <td>0.033871</td>\n",
       "      <td>NaN</td>\n",
       "    </tr>\n",
       "    <tr>\n",
       "      <th>std</th>\n",
       "      <td>NaN</td>\n",
       "      <td>13.144146</td>\n",
       "      <td>0.204279</td>\n",
       "      <td>NaN</td>\n",
       "      <td>NaN</td>\n",
       "      <td>NaN</td>\n",
       "      <td>NaN</td>\n",
       "      <td>0.340875</td>\n",
       "      <td>0.304747</td>\n",
       "      <td>0.180899</td>\n",
       "      <td>NaN</td>\n",
       "    </tr>\n",
       "    <tr>\n",
       "      <th>min</th>\n",
       "      <td>NaN</td>\n",
       "      <td>1970.000000</td>\n",
       "      <td>0.000000</td>\n",
       "      <td>NaN</td>\n",
       "      <td>NaN</td>\n",
       "      <td>NaN</td>\n",
       "      <td>NaN</td>\n",
       "      <td>0.000000</td>\n",
       "      <td>0.000000</td>\n",
       "      <td>0.000000</td>\n",
       "      <td>NaN</td>\n",
       "    </tr>\n",
       "    <tr>\n",
       "      <th>25%</th>\n",
       "      <td>NaN</td>\n",
       "      <td>1990.000000</td>\n",
       "      <td>0.000000</td>\n",
       "      <td>NaN</td>\n",
       "      <td>NaN</td>\n",
       "      <td>NaN</td>\n",
       "      <td>NaN</td>\n",
       "      <td>0.000000</td>\n",
       "      <td>1.000000</td>\n",
       "      <td>0.000000</td>\n",
       "      <td>NaN</td>\n",
       "    </tr>\n",
       "    <tr>\n",
       "      <th>50%</th>\n",
       "      <td>NaN</td>\n",
       "      <td>2007.000000</td>\n",
       "      <td>0.000000</td>\n",
       "      <td>NaN</td>\n",
       "      <td>NaN</td>\n",
       "      <td>NaN</td>\n",
       "      <td>NaN</td>\n",
       "      <td>0.000000</td>\n",
       "      <td>1.000000</td>\n",
       "      <td>0.000000</td>\n",
       "      <td>NaN</td>\n",
       "    </tr>\n",
       "    <tr>\n",
       "      <th>75%</th>\n",
       "      <td>NaN</td>\n",
       "      <td>2014.000000</td>\n",
       "      <td>0.000000</td>\n",
       "      <td>NaN</td>\n",
       "      <td>NaN</td>\n",
       "      <td>NaN</td>\n",
       "      <td>NaN</td>\n",
       "      <td>0.000000</td>\n",
       "      <td>1.000000</td>\n",
       "      <td>0.000000</td>\n",
       "      <td>NaN</td>\n",
       "    </tr>\n",
       "    <tr>\n",
       "      <th>max</th>\n",
       "      <td>NaN</td>\n",
       "      <td>2016.000000</td>\n",
       "      <td>1.000000</td>\n",
       "      <td>NaN</td>\n",
       "      <td>NaN</td>\n",
       "      <td>NaN</td>\n",
       "      <td>NaN</td>\n",
       "      <td>1.000000</td>\n",
       "      <td>1.000000</td>\n",
       "      <td>1.000000</td>\n",
       "      <td>NaN</td>\n",
       "    </tr>\n",
       "  </tbody>\n",
       "</table>\n",
       "</div>"
      ],
      "text/plain": [
       "          gname          iyear       extended country_txt    attacktype1_txt  \\\n",
       "count    170350  170350.000000  170350.000000      170350             170350   \n",
       "unique     3454            NaN            NaN         205                  9   \n",
       "top     Unknown            NaN            NaN        Iraq  Bombing/Explosion   \n",
       "freq      78306            NaN            NaN       22130              83073   \n",
       "mean        NaN    2001.709997       0.043634         NaN                NaN   \n",
       "std         NaN      13.144146       0.204279         NaN                NaN   \n",
       "min         NaN    1970.000000       0.000000         NaN                NaN   \n",
       "25%         NaN    1990.000000       0.000000         NaN                NaN   \n",
       "50%         NaN    2007.000000       0.000000         NaN                NaN   \n",
       "75%         NaN    2014.000000       0.000000         NaN                NaN   \n",
       "max         NaN    2016.000000       1.000000         NaN                NaN   \n",
       "\n",
       "                      targtype1_txt              weaptype1_txt       multiple  \\\n",
       "count                        170350                     170350  170350.000000   \n",
       "unique                           22                         12            NaN   \n",
       "top     Private Citizens & Property  Explosives/Bombs/Dynamite            NaN   \n",
       "freq                          39994                      86704            NaN   \n",
       "mean                            NaN                        NaN       0.134206   \n",
       "std                             NaN                        NaN       0.340875   \n",
       "min                             NaN                        NaN       0.000000   \n",
       "25%                             NaN                        NaN       0.000000   \n",
       "50%                             NaN                        NaN       0.000000   \n",
       "75%                             NaN                        NaN       0.000000   \n",
       "max                             NaN                        NaN       1.000000   \n",
       "\n",
       "              success        suicide     city  \n",
       "count   170350.000000  170350.000000   169904  \n",
       "unique            NaN            NaN    33957  \n",
       "top               NaN            NaN  Unknown  \n",
       "freq              NaN            NaN     9162  \n",
       "mean         0.896396       0.033871      NaN  \n",
       "std          0.304747       0.180899      NaN  \n",
       "min          0.000000       0.000000      NaN  \n",
       "25%          1.000000       0.000000      NaN  \n",
       "50%          1.000000       0.000000      NaN  \n",
       "75%          1.000000       0.000000      NaN  \n",
       "max          1.000000       1.000000      NaN  "
      ]
     },
     "execution_count": 106,
     "metadata": {},
     "output_type": "execute_result"
    }
   ],
   "source": [
    "#Describe the data we have just read in\n",
    "gt_data_for_viz = global_terrorism_data[viz_factors_list]\n",
    "global_terrorism_data = global_terrorism_data[factors_list]\n",
    "gt_data_for_viz.describe(include=\"all\")"
   ]
  },
  {
   "cell_type": "markdown",
   "metadata": {},
   "source": [
    "# Features Selected for our predictive models:\n",
    "* **Gname/Perpetrator Group Name:** We see that there are 3,454 unique values for gname and is non-numerical. We will have to factorize for classification models. \"Unknown\" is the top perpetrator group within the data which presents a problem.\n",
    "* **Iyear/ Year of Incident:** This is numerical data and spand from 1970 to 2016\n",
    "* **Vicinity:** Dichotomous variable that indicates whether an event occured in the city or in the vicinity of the city\n",
    "* **Country_txt/ Country Name:** There are 205 differnt countries within the dataset. Iraq has the most recorded Terrorist Incidents\n",
    "* **Attacktype1_txt/ Type of Terrorist Attack:** There are 9 categories of Attack Types with \"Bombing/Explosion\" being the most prevalent in Terrorist Incidents\n",
    "* **Targtype1_txt/ Type of Target of Terrorist Attack:** There are 22 categories of Target Types with \"Private Citizens & Property\" being the most prevalent in Terrorist Incidents\n",
    "* **Weaptype1_txt/ Primary type of Weapon used in Terrorist Attack:** There are 12 categories of Weapon Types with \"Explosives/Bombs/Dynamite\" being the most frequent. This goes hand in hand with AttackType1_txt\n",
    "* **Multiple:** This is a dichotomous variable determines if a terrorist incident is related to several incidents or not. We can tell that the majority of incidents are classified as not related\n",
    "* **Success:** This is a dichotomous variable that determines if a terrorist incident was successful. A majority of these attacks are indeed successful.\n",
    "* **Suicide:** This is a dichotomous variable that determines if a terrorist incident was a suicide attack or not. A majority of terrorist incidents are not classified as suicide attacks.\n",
    "* **City/ City Name:** There are 33,957 different cities within the dataset. Unknown has the most recorded Terrorist Incidents. This presents a problem we can somewhat remedy with imputation.\n"
   ]
  },
  {
   "cell_type": "markdown",
   "metadata": {
    "_uuid": "5279fcd125b3dfff13cded69ef8653a3bdd91ce6"
   },
   "source": [
    "[This website](http://www.start.umd.edu/gtd/downloads/Codebook.pdf) provides a detail explanation of all the features in the GTD. Given the explanation within the booklet, we can isolate certain features. For example, when considering a variable for time year is the most complete whereas month and day can have 0 values when unknown. This booklet also allowed the omission of feature engineering for variables such as country_txt, attacktype1_txt, targtype1_txt, and weaptype1_txt because it has associated numerical codes which serve as factors within this program."
   ]
  },
  {
   "cell_type": "markdown",
   "metadata": {
    "_uuid": "ffe7c2622f1569565c68dc0aa6a7704b279bac59"
   },
   "source": [
    " Logic behind selecting these features:\n",
    "*  Minimal imputation (All of our features with the exception of city are complete for all rows)\n",
    "* Complete features within our data allow for logical subsets within the data which is optimal for prediciton\n",
    "* Prevent overfitting\n"
   ]
  },
  {
   "cell_type": "markdown",
   "metadata": {
    "_uuid": "5eb6b66bc116b9a42ec1dcfa00564823644008bf"
   },
   "source": [
    "# 2. Data Preparation & Exploration\n",
    "* Searched for NA data within our data\n",
    "* Determined the frequency of every variable besides year\n",
    "* Factorized city and gname variables for usage in our predictive models\n",
    "* Seperated data into known and unknown perpetrators\n",
    "* Defined our train and test sets"
   ]
  },
  {
   "cell_type": "code",
   "execution_count": 107,
   "metadata": {},
   "outputs": [],
   "source": [
    "#method to return the head and tail frequencies\n",
    "def frequency_data(data,factors):\n",
    "    for factor in factors:\n",
    "        print(factor)\n",
    "        print(data[factor].value_counts().head())\n",
    "        #print(data[factor].value_counts().tail())"
   ]
  },
  {
   "cell_type": "code",
   "execution_count": 108,
   "metadata": {
    "_uuid": "9cf290de177ee783260a4072695b038145b3d716",
    "scrolled": false
   },
   "outputs": [
    {
     "name": "stdout",
     "output_type": "stream",
     "text": [
      "gname          False\n",
      "eventid        False\n",
      "extended       False\n",
      "provstate       True\n",
      "iyear          False\n",
      "country        False\n",
      "attacktype1    False\n",
      "targtype1      False\n",
      "weaptype1      False\n",
      "multiple       False\n",
      "success        False\n",
      "suicide        False\n",
      "city            True\n",
      "dtype: bool\n",
      "gname\n",
      "Unknown                                             78306\n",
      "Taliban                                              6575\n",
      "Shining Path (SL)                                    4551\n",
      "Islamic State of Iraq and the Levant (ISIL)          4287\n",
      "Farabundo Marti National Liberation Front (FMLN)     3351\n",
      "Name: gname, dtype: int64\n",
      "country\n",
      "95     22130\n",
      "153    13634\n",
      "4      11306\n",
      "92     10978\n",
      "45      8163\n",
      "Name: country, dtype: int64\n",
      "attacktype1\n",
      "3    83073\n",
      "2    40223\n",
      "1    18402\n",
      "6    10233\n",
      "7     9581\n",
      "Name: attacktype1, dtype: int64\n",
      "targtype1\n",
      "14    39994\n",
      "4     25508\n",
      "3     22938\n",
      "2     20314\n",
      "1     19873\n",
      "Name: targtype1, dtype: int64\n",
      "weaptype1\n",
      "6     86704\n",
      "5     55273\n",
      "13    13852\n",
      "8     10459\n",
      "9      3338\n",
      "Name: weaptype1, dtype: int64\n",
      "multiple\n",
      "0    147488\n",
      "1     22862\n",
      "Name: multiple, dtype: int64\n",
      "success\n",
      "1    152701\n",
      "0     17649\n",
      "Name: success, dtype: int64\n",
      "suicide\n",
      "0    164580\n",
      "1      5770\n",
      "Name: suicide, dtype: int64\n",
      "city\n",
      "Unknown    9162\n",
      "Baghdad    7206\n",
      "Karachi    2609\n",
      "Lima       2358\n",
      "Belfast    2140\n",
      "Name: city, dtype: int64\n"
     ]
    }
   ],
   "source": [
    "#Look for missing data\n",
    "missing_data = global_terrorism_data.isna().any()\n",
    "print(missing_data)\n",
    "#Recognize that our city variable has null values\n",
    "#All of our data is categorical in nature\n",
    "freq_factors = [\"gname\",\"country\",\"attacktype1\",\"targtype1\",\"weaptype1\",\"multiple\",\"success\",\"suicide\",\"city\"]\n",
    "#Frequency\n",
    "frequency_data(global_terrorism_data,freq_factors)"
   ]
  },
  {
   "cell_type": "markdown",
   "metadata": {
    "_uuid": "850dc4774c2b4a1934fd63181faba9d792011a54"
   },
   "source": [
    "Note: There are several classes with single instances"
   ]
  },
  {
   "cell_type": "code",
   "execution_count": 109,
   "metadata": {},
   "outputs": [
    {
     "name": "stdout",
     "output_type": "stream",
     "text": [
      "False\n"
     ]
    }
   ],
   "source": [
    "#Imputations on ProvState\n",
    "#Must impute provstate befroe city because citys imputation is reliant on the provstate\n",
    "global_terrorism_data[\"provstate\"] = np.where(global_terrorism_data[\"provstate\"].isnull(),\n",
    "                                              \"Unknown\",global_terrorism_data[\"provstate\"])\n",
    "#We have to confirm that all entries in the data is not null\n",
    "missing_data = global_terrorism_data[\"provstate\"].isna().any()\n",
    "print(missing_data)\n"
   ]
  },
  {
   "cell_type": "code",
   "execution_count": 110,
   "metadata": {},
   "outputs": [
    {
     "name": "stdout",
     "output_type": "stream",
     "text": [
      "False\n"
     ]
    }
   ],
   "source": [
    "#Imputations on City\n",
    "#Where city is unknown replace with provstate\n",
    "global_terrorism_data[\"city\"] = np.where(global_terrorism_data[\"city\"] == \"Unknown\",\n",
    "                                              global_terrorism_data[\"provstate\"],\n",
    "                                         global_terrorism_data[\"city\"])\n",
    "#Make sure that there is no null values within the city\n",
    "global_terrorism_data[\"city\"] = np.where(global_terrorism_data[\"city\"].isnull(),\n",
    "                                              \"Unknown\",\n",
    "                                         global_terrorism_data[\"city\"])\n",
    "missing_data = global_terrorism_data[\"city\"].isna().any()\n",
    "print(missing_data)"
   ]
  },
  {
   "cell_type": "code",
   "execution_count": 111,
   "metadata": {},
   "outputs": [],
   "source": [
    "#We also factorize our variable to predict (Perpetrator Group Name)\n",
    "#Factorizing data will remove the missing data and seperate city into classes\n",
    "global_terrorism_data[\"citynumber\"] = pd.factorize(global_terrorism_data[\"city\"])[0]\n",
    "global_terrorism_data[\"gnumber\"] = pd.factorize(global_terrorism_data[\"gname\"])[0]"
   ]
  },
  {
   "cell_type": "code",
   "execution_count": 112,
   "metadata": {},
   "outputs": [],
   "source": [
    "#Training and Test Data Sets for Classes as they appear within our data\n",
    "training_data = global_terrorism_data\n",
    "test_data = global_terrorism_data.sample(frac=0.8, replace=False)\n",
    "test_unknown = global_terrorism_data[global_terrorism_data[\"gnumber\"] == 2]\n",
    "#list of factors to use for prediction\n",
    "predictor_factors = [\"iyear\",\"country\",\"extended\",\"attacktype1\",\"targtype1\",\"weaptype1\",\"multiple\",\"success\",\"suicide\",\"citynumber\"]"
   ]
  },
  {
   "cell_type": "code",
   "execution_count": 113,
   "metadata": {},
   "outputs": [
    {
     "data": {
      "text/html": [
       "<div>\n",
       "<style scoped>\n",
       "    .dataframe tbody tr th:only-of-type {\n",
       "        vertical-align: middle;\n",
       "    }\n",
       "\n",
       "    .dataframe tbody tr th {\n",
       "        vertical-align: top;\n",
       "    }\n",
       "\n",
       "    .dataframe thead th {\n",
       "        text-align: right;\n",
       "    }\n",
       "</style>\n",
       "<table border=\"1\" class=\"dataframe\">\n",
       "  <thead>\n",
       "    <tr style=\"text-align: right;\">\n",
       "      <th></th>\n",
       "      <th>gname</th>\n",
       "      <th>eventid</th>\n",
       "      <th>extended</th>\n",
       "      <th>provstate</th>\n",
       "      <th>iyear</th>\n",
       "      <th>country</th>\n",
       "      <th>attacktype1</th>\n",
       "      <th>targtype1</th>\n",
       "      <th>weaptype1</th>\n",
       "      <th>multiple</th>\n",
       "      <th>success</th>\n",
       "      <th>suicide</th>\n",
       "      <th>city</th>\n",
       "      <th>citynumber</th>\n",
       "      <th>gnumber</th>\n",
       "    </tr>\n",
       "  </thead>\n",
       "  <tbody>\n",
       "    <tr>\n",
       "      <th>2</th>\n",
       "      <td>Unknown</td>\n",
       "      <td>197001000001</td>\n",
       "      <td>0</td>\n",
       "      <td>Tarlac</td>\n",
       "      <td>1970</td>\n",
       "      <td>160</td>\n",
       "      <td>1</td>\n",
       "      <td>10</td>\n",
       "      <td>13</td>\n",
       "      <td>0</td>\n",
       "      <td>1</td>\n",
       "      <td>0</td>\n",
       "      <td>Tarlac</td>\n",
       "      <td>2</td>\n",
       "      <td>2</td>\n",
       "    </tr>\n",
       "    <tr>\n",
       "      <th>3</th>\n",
       "      <td>Unknown</td>\n",
       "      <td>197001000002</td>\n",
       "      <td>0</td>\n",
       "      <td>Attica</td>\n",
       "      <td>1970</td>\n",
       "      <td>78</td>\n",
       "      <td>3</td>\n",
       "      <td>7</td>\n",
       "      <td>6</td>\n",
       "      <td>0</td>\n",
       "      <td>1</td>\n",
       "      <td>0</td>\n",
       "      <td>Athens</td>\n",
       "      <td>3</td>\n",
       "      <td>2</td>\n",
       "    </tr>\n",
       "    <tr>\n",
       "      <th>4</th>\n",
       "      <td>Unknown</td>\n",
       "      <td>197001000003</td>\n",
       "      <td>0</td>\n",
       "      <td>Unknown</td>\n",
       "      <td>1970</td>\n",
       "      <td>101</td>\n",
       "      <td>7</td>\n",
       "      <td>7</td>\n",
       "      <td>8</td>\n",
       "      <td>0</td>\n",
       "      <td>1</td>\n",
       "      <td>0</td>\n",
       "      <td>Fukouka</td>\n",
       "      <td>4</td>\n",
       "      <td>2</td>\n",
       "    </tr>\n",
       "    <tr>\n",
       "      <th>7</th>\n",
       "      <td>Unknown</td>\n",
       "      <td>197001020002</td>\n",
       "      <td>0</td>\n",
       "      <td>California</td>\n",
       "      <td>1970</td>\n",
       "      <td>217</td>\n",
       "      <td>3</td>\n",
       "      <td>21</td>\n",
       "      <td>6</td>\n",
       "      <td>0</td>\n",
       "      <td>1</td>\n",
       "      <td>0</td>\n",
       "      <td>Oakland</td>\n",
       "      <td>7</td>\n",
       "      <td>2</td>\n",
       "    </tr>\n",
       "    <tr>\n",
       "      <th>12</th>\n",
       "      <td>Unknown</td>\n",
       "      <td>197001080001</td>\n",
       "      <td>0</td>\n",
       "      <td>Lazio</td>\n",
       "      <td>1970</td>\n",
       "      <td>98</td>\n",
       "      <td>4</td>\n",
       "      <td>6</td>\n",
       "      <td>5</td>\n",
       "      <td>0</td>\n",
       "      <td>1</td>\n",
       "      <td>0</td>\n",
       "      <td>Rome</td>\n",
       "      <td>11</td>\n",
       "      <td>2</td>\n",
       "    </tr>\n",
       "  </tbody>\n",
       "</table>\n",
       "</div>"
      ],
      "text/plain": [
       "      gname       eventid  extended   provstate  iyear  country  attacktype1  \\\n",
       "2   Unknown  197001000001         0      Tarlac   1970      160            1   \n",
       "3   Unknown  197001000002         0      Attica   1970       78            3   \n",
       "4   Unknown  197001000003         0     Unknown   1970      101            7   \n",
       "7   Unknown  197001020002         0  California   1970      217            3   \n",
       "12  Unknown  197001080001         0       Lazio   1970       98            4   \n",
       "\n",
       "    targtype1  weaptype1  multiple  success  suicide     city  citynumber  \\\n",
       "2          10         13         0        1        0   Tarlac           2   \n",
       "3           7          6         0        1        0   Athens           3   \n",
       "4           7          8         0        1        0  Fukouka           4   \n",
       "7          21          6         0        1        0  Oakland           7   \n",
       "12          6          5         0        1        0     Rome          11   \n",
       "\n",
       "    gnumber  \n",
       "2         2  \n",
       "3         2  \n",
       "4         2  \n",
       "7         2  \n",
       "12        2  "
      ]
     },
     "execution_count": 113,
     "metadata": {},
     "output_type": "execute_result"
    }
   ],
   "source": [
    "#Confirm that the data is only \"Unknown\" classification\n",
    "test_unknown.head()"
   ]
  },
  {
   "cell_type": "markdown",
   "metadata": {
    "_uuid": "b35d2b259b1f4d68f0e9f0899b3c5128d25ebc5f"
   },
   "source": [
    "## Data Visulaizations"
   ]
  },
  {
   "cell_type": "code",
   "execution_count": 114,
   "metadata": {
    "_uuid": "bbc2197da2fb97073f0dea6dcf5bf74f5623b157"
   },
   "outputs": [
    {
     "data": {
      "image/png": "[encoded data removed]",
      "text/plain": [
       "<matplotlib.figure.Figure at 0x12d21f358>"
      ]
     },
     "metadata": {},
     "output_type": "display_data"
    }
   ],
   "source": [
    "#AttackType\n",
    "gt_data_for_viz[\"attacktype1_txt\"].value_counts(sort=False).plot.pie(figsize=(10, 10),fontsize=10,legend=\"true\")\n",
    "plt.show()"
   ]
  },
  {
   "cell_type": "markdown",
   "metadata": {},
   "source": [
    "Attack Type is a reliable feature as there is more classified data then unknown data."
   ]
  },
  {
   "cell_type": "code",
   "execution_count": 115,
   "metadata": {
    "_uuid": "a181859e64c24835c37a0c2ddaaa91daffd8eaf6"
   },
   "outputs": [
    {
     "data": {
      "image/png": "[encoded data removed]",
      "text/plain": [
       "<matplotlib.figure.Figure at 0x12b4a7ba8>"
      ]
     },
     "metadata": {},
     "output_type": "display_data"
    }
   ],
   "source": [
    "#Targ Type\n",
    "gt_data_for_viz[\"targtype1_txt\"].value_counts(sort=False).plot(kind=\"bar\",figsize=(10, 10))\n",
    "plt.show()"
   ]
  },
  {
   "cell_type": "markdown",
   "metadata": {},
   "source": [
    "Target Type is reliable as a feature in the data because there is more recorded data then unknown data."
   ]
  },
  {
   "cell_type": "code",
   "execution_count": 116,
   "metadata": {
    "_uuid": "829e850dd411c4b3d26a6c4cb0f92b4f21b6db75"
   },
   "outputs": [
    {
     "data": {
      "image/png": "[encoded data removed]",
      "text/plain": [
       "<matplotlib.figure.Figure at 0x12a2f72e8>"
      ]
     },
     "metadata": {},
     "output_type": "display_data"
    }
   ],
   "source": [
    "#Weapon Type\n",
    "gt_data_for_viz[\"weaptype1_txt\"].value_counts(sort=True).plot.pie(figsize=(10, 10),fontsize=0,legend=\"true\")\n",
    "plt.show()"
   ]
  },
  {
   "cell_type": "code",
   "execution_count": 117,
   "metadata": {
    "_uuid": "2aa6c2e022edabb281ee2714fd1a8b443de41e1e"
   },
   "outputs": [
    {
     "data": {
      "image/png": "[encoded data removed]",
      "text/plain": [
       "<matplotlib.figure.Figure at 0x12a308550>"
      ]
     },
     "metadata": {},
     "output_type": "display_data"
    }
   ],
   "source": [
    "#Recorded Terrorist Incidents per year\n",
    "gt_data_for_viz[\"iyear\"].value_counts().sort_index().plot(figsize=(10, 10))\n",
    "plt.show()"
   ]
  },
  {
   "cell_type": "code",
   "execution_count": 118,
   "metadata": {
    "_uuid": "6c9189d26969a2ebafd15e91acd0cab881597f97"
   },
   "outputs": [
    {
     "data": {
      "image/png": "[encoded data removed]",
      "text/plain": [
       "<matplotlib.figure.Figure at 0x12a2f7320>"
      ]
     },
     "metadata": {},
     "output_type": "display_data"
    }
   ],
   "source": [
    "#Top 10 Recorded Terrorist Incidents per country\n",
    "gt_data_for_viz[\"country_txt\"].value_counts().head(10).plot(kind=\"bar\",figsize=(10, 10))\n",
    "plt.show()"
   ]
  },
  {
   "cell_type": "markdown",
   "metadata": {},
   "source": [
    "Country is a reliable feature in the data as it has many classes and various data points for each(if not every) class"
   ]
  },
  {
   "cell_type": "code",
   "execution_count": 119,
   "metadata": {},
   "outputs": [
    {
     "data": {
      "image/png": "[encoded data removed]",
      "text/plain": [
       "<matplotlib.figure.Figure at 0x11a096630>"
      ]
     },
     "metadata": {},
     "output_type": "display_data"
    }
   ],
   "source": [
    "#Top 10 recorded terrorist incidents per city (pre imputation)\n",
    "gt_data_for_viz[\"city\"].value_counts().head(10).plot(kind=\"bar\",figsize=(10, 10))\n",
    "plt.show()"
   ]
  },
  {
   "cell_type": "code",
   "execution_count": 120,
   "metadata": {
    "_uuid": "6da6ecb33b2ab6658723b390d72f7145af42f3ca"
   },
   "outputs": [
    {
     "data": {
      "image/png": "[encoded data removed]",
      "text/plain": [
       "<matplotlib.figure.Figure at 0x1289c1b00>"
      ]
     },
     "metadata": {},
     "output_type": "display_data"
    }
   ],
   "source": [
    "#Top 10 Recorded Terrorist Incidents per city (after imputation)\n",
    "global_terrorism_data[\"city\"].value_counts().head(10).plot(kind=\"bar\",figsize=(10, 10))\n",
    "plt.show()"
   ]
  },
  {
   "cell_type": "markdown",
   "metadata": {},
   "source": [
    "Note: The amount of terrorist incidents with the \"Unknown\" classification have reduced dramatically given imputation. Post imputation city becomes a far more reliable feature of data for use with prediction."
   ]
  },
  {
   "cell_type": "code",
   "execution_count": 121,
   "metadata": {
    "_uuid": "1e5555fbe3cb5893770ad838b5e89016fb4bad3c"
   },
   "outputs": [
    {
     "data": {
      "image/png": "[encoded data removed]",
      "text/plain": [
       "<matplotlib.figure.Figure at 0x1170940f0>"
      ]
     },
     "metadata": {},
     "output_type": "display_data"
    }
   ],
   "source": [
    "#Top 10 Perpetrator Groups by incidents\n",
    "gt_data_for_viz[\"gname\"].value_counts().head(10).plot(kind=\"bar\",figsize=(10, 10))\n",
    "plt.show()"
   ]
  },
  {
   "cell_type": "markdown",
   "metadata": {},
   "source": [
    "A majority of the perpetrators are classified as \"Unknown\". Our task is to be able to classify this majority into other perpetrator groups"
   ]
  },
  {
   "cell_type": "markdown",
   "metadata": {},
   "source": [
    "Note: With these visualizations, notice how features in the data can partition the data into smaller and unique subsets"
   ]
  },
  {
   "cell_type": "markdown",
   "metadata": {
    "_uuid": "00c0f3c8d6a963cf6a885dc1fa7a4cbd988132ce"
   },
   "source": [
    "# 3. Training ,Testing and Evaluating Algorithms \n",
    "*  Applying our method just to ascertain how accurate we can make our classification models\n",
    "*  Initialized classifcation models (Decision Tree, KNN and Random Forest)\n",
    "*  Trained classification models\n",
    "*  Evaluated our classification models"
   ]
  },
  {
   "cell_type": "code",
   "execution_count": 122,
   "metadata": {
    "_uuid": "95a6488df7f413366ec388a6522247970a5c641d"
   },
   "outputs": [],
   "source": [
    "#Initialize Classifier Models\n",
    "#Decision Tree, KNN, Random Forest\n",
    "dtree_model = DecisionTreeClassifier(max_depth = 100)\n",
    "knn_model = KNeighborsClassifier(n_neighbors=1)"
   ]
  },
  {
   "cell_type": "markdown",
   "metadata": {
    "_uuid": "71a73019fa02339d15edc608afceffc2b2cbf420"
   },
   "source": [
    "## Why Decision Tree?\n",
    "DT is a classification model which performs implicit feature selection and is not affected by non-linear relationships within the data. DTs create a set of rules based on the features of the data which is then used to determine the class of a test data point. Chose DT over random forest classification implementation because random forest is computationally expensive with our training data set."
   ]
  },
  {
   "cell_type": "code",
   "execution_count": 123,
   "metadata": {
    "_uuid": "0443d749aac4f66f06978f1557f3670df771abad",
    "scrolled": true
   },
   "outputs": [
    {
     "data": {
      "text/plain": [
       "DecisionTreeClassifier(class_weight=None, criterion='gini', max_depth=100,\n",
       "            max_features=None, max_leaf_nodes=None,\n",
       "            min_impurity_decrease=0.0, min_impurity_split=None,\n",
       "            min_samples_leaf=1, min_samples_split=2,\n",
       "            min_weight_fraction_leaf=0.0, presort=False, random_state=None,\n",
       "            splitter='best')"
      ]
     },
     "execution_count": 123,
     "metadata": {},
     "output_type": "execute_result"
    }
   ],
   "source": [
    "#Training Algorithms\n",
    "dtree_model.fit(training_data[predictor_factors],training_data[\"gnumber\"])"
   ]
  },
  {
   "cell_type": "markdown",
   "metadata": {
    "_uuid": "f84ef27e5e9c81a9700436a814bcdda84be5226e"
   },
   "source": [
    "## Why K-Nearest Neighbors?\n",
    "KNN is a simple classification model that is highly dependent on the similarity between a test data point and a stored data point(the neighbor(s)) from the training data used in the model. There are multiple single class instances within our GTD dataset(e.g., One time terrorist groups, City's that have been attacked once, etc.). By setting the algorithm to classify the test data points based on the single most similar neighbor we should be able to classify those instances with high accuracy."
   ]
  },
  {
   "cell_type": "code",
   "execution_count": 124,
   "metadata": {
    "_kg_hide-input": false,
    "_kg_hide-output": false,
    "_uuid": "97f53802a121d3be9d23cf03c2b63bfb4960b8a9",
    "scrolled": true
   },
   "outputs": [
    {
     "data": {
      "text/plain": [
       "KNeighborsClassifier(algorithm='auto', leaf_size=30, metric='minkowski',\n",
       "           metric_params=None, n_jobs=1, n_neighbors=1, p=2,\n",
       "           weights='uniform')"
      ]
     },
     "execution_count": 124,
     "metadata": {},
     "output_type": "execute_result"
    }
   ],
   "source": [
    "knn_model.fit(training_data[predictor_factors],training_data[\"gnumber\"])"
   ]
  },
  {
   "cell_type": "code",
   "execution_count": 125,
   "metadata": {
    "_uuid": "4ceb52cd292669348732501a790c509ecf54d3ba"
   },
   "outputs": [],
   "source": [
    "#decision tree test\n",
    "dtree_predictions = dtree_model.predict(test_data[predictor_factors])"
   ]
  },
  {
   "cell_type": "code",
   "execution_count": 126,
   "metadata": {
    "_uuid": "a460ba7ac25bc3a794c5098da4e4226a2bee7ec0"
   },
   "outputs": [],
   "source": [
    "#Test Unknown\n",
    "dtree_unknown = dtree_model.predict(test_unknown[predictor_factors])"
   ]
  },
  {
   "cell_type": "code",
   "execution_count": 127,
   "metadata": {
    "_uuid": "ce8f8e79bd2090658bf1bf26373a76083ff3b02a"
   },
   "outputs": [],
   "source": [
    "#KNN test\n",
    "knn_pred = knn_model.predict(test_data[predictor_factors])"
   ]
  },
  {
   "cell_type": "code",
   "execution_count": 128,
   "metadata": {
    "_uuid": "01ac227dddd36530f2d95f06e01d5821b1df488f"
   },
   "outputs": [],
   "source": [
    "#KNN Unknown\n",
    "knn_unknown = knn_model.predict(test_unknown[predictor_factors])"
   ]
  },
  {
   "cell_type": "markdown",
   "metadata": {
    "_uuid": "45c0eadbdbd919cb53535c685805a6a570529122"
   },
   "source": [
    "## Evaluating Models\n",
    "* custom function for accuracy\n",
    "* accuracy score\n",
    "* hamming loss"
   ]
  },
  {
   "cell_type": "code",
   "execution_count": 129,
   "metadata": {},
   "outputs": [],
   "source": [
    "#Method to determine the performance of our classification models\n",
    "#Does a simple comparison of predicitons and actual calculations\n",
    "def print_results(predictions,data,desired_variable):\n",
    "\tprint(\"Results:\")\n",
    "\tprint(\"Number of mislabeled points out of a total {} points : {}, performance {:05.2f}%\"\n",
    "\t.format(\n",
    "\t\tdata.shape[0],\n",
    "\t\t(data[desired_variable] != predictions).sum(),\n",
    "\t\t100*(1-(data[desired_variable] != predictions).sum()/data.shape[0])\n",
    "\t\t)\n",
    "\t)"
   ]
  },
  {
   "cell_type": "code",
   "execution_count": 130,
   "metadata": {
    "_uuid": "0ee63895e7f0395fd919d0ffda633d0e27e16f11"
   },
   "outputs": [
    {
     "name": "stdout",
     "output_type": "stream",
     "text": [
      "Decision Tree: \n",
      "Results:\n",
      "Number of mislabeled points out of a total 136280 points : 7636, performance 94.40%\n",
      "Accuracy Score:  0.943968300558\n",
      "Hamming Loss:  0.0560316994423\n"
     ]
    }
   ],
   "source": [
    "print(\"Decision Tree: \")\n",
    "print_results(dtree_predictions,test_data,\"gnumber\")\n",
    "print(\"Accuracy Score: \",accuracy_score(test_data[\"gnumber\"],dtree_predictions))\n",
    "print(\"Hamming Loss: \",hamming_loss(test_data[\"gnumber\"],dtree_predictions))"
   ]
  },
  {
   "cell_type": "code",
   "execution_count": 131,
   "metadata": {
    "_uuid": "95e10b8acc1eb1dab59f57bd275c43f363984da9"
   },
   "outputs": [
    {
     "name": "stdout",
     "output_type": "stream",
     "text": [
      "Decision Tree Unknown: \n",
      "Results:\n",
      "Number of mislabeled points out of a total 78306 points : 1666, performance 97.87%\n",
      "Accuracy Score:  0.978724491099\n",
      "Hamming Loss:  0.021275508901\n"
     ]
    }
   ],
   "source": [
    "print(\"Decision Tree Unknown: \")\n",
    "print_results(dtree_unknown,test_unknown,\"gnumber\")\n",
    "print(\"Accuracy Score: \",accuracy_score(test_unknown[\"gnumber\"],dtree_unknown))\n",
    "print(\"Hamming Loss: \",hamming_loss(test_unknown[\"gnumber\"],dtree_unknown))"
   ]
  },
  {
   "cell_type": "code",
   "execution_count": 132,
   "metadata": {
    "_uuid": "38cdbc5e320f4654cab808d618dfcba0704ae251"
   },
   "outputs": [
    {
     "name": "stdout",
     "output_type": "stream",
     "text": [
      "KNN: \n",
      "Results:\n",
      "Number of mislabeled points out of a total 136280 points : 9533, performance 93.00%\n",
      "Accuracy Score:  0.930048429704\n",
      "Hamming Loss:  0.0699515702964\n"
     ]
    }
   ],
   "source": [
    "print(\"KNN: \")\n",
    "print_results(knn_pred,test_data,\"gnumber\")\n",
    "print(\"Accuracy Score: \",accuracy_score(test_data[\"gnumber\"],knn_pred))\n",
    "print(\"Hamming Loss: \",hamming_loss(test_data[\"gnumber\"],knn_pred))"
   ]
  },
  {
   "cell_type": "code",
   "execution_count": 133,
   "metadata": {
    "_uuid": "a9a0e0c74f5787687968efebcc2109d905531fff"
   },
   "outputs": [
    {
     "name": "stdout",
     "output_type": "stream",
     "text": [
      "KNN Unknown: \n",
      "Results:\n",
      "Number of mislabeled points out of a total 78306 points : 4418, performance 94.36%\n",
      "Accuracy Score:  0.943580313131\n",
      "Hamming Loss:  0.0564196868695\n"
     ]
    }
   ],
   "source": [
    "print(\"KNN Unknown: \")\n",
    "print_results(knn_unknown,test_unknown,\"gnumber\")\n",
    "print(\"Accuracy Score: \",accuracy_score(test_unknown[\"gnumber\"],knn_unknown))\n",
    "print(\"Hamming Loss: \",hamming_loss(test_unknown[\"gnumber\"],knn_unknown))"
   ]
  },
  {
   "cell_type": "markdown",
   "metadata": {
    "_uuid": "a28bedc70a5cac99623a6f22d73a21338dba806d"
   },
   "source": [
    "As noted above, there are several classes with single instances. To address these instances, I refrained from using k-fold cross-validation to determine model accuracy because we would have splits that wouldn't provide an accurate representation of all classes as they appear within the data.\n",
    "\n",
    "I used a custom function in conjunction with built-in sci-kit learn classification metrics accuracy score, f1_score and haming loss. Didn't use Jaccard Similarity Score since it is equivalent to the accuracy score.\n",
    "\n",
    "Testing purely unknown perpetrators the predictive model performed almost identically given a data set with a different class distribution."
   ]
  },
  {
   "cell_type": "markdown",
   "metadata": {
    "_uuid": "7222161314a38aca2682a0ecf2b864a27bd68ed0"
   },
   "source": [
    "In conclusion, we are able to construct a fairly accurate predictive model that can determine the perpetrator group related to an incident. By selecting and engineering the right features we are able to construct a model with upwards of 92% accuracy and downwards of 8% hamming loss."
   ]
  },
  {
   "cell_type": "markdown",
   "metadata": {},
   "source": [
    "# 4. Solving Our Problem\n",
    "\n",
    "* Using the method from Step 3 train and test our model to predict what groups are most likely related to  terrorist incident\n",
    "* Purely theoretical application\n",
    "* Why the application works"
   ]
  },
  {
   "cell_type": "code",
   "execution_count": 134,
   "metadata": {},
   "outputs": [],
   "source": [
    "#Use new training data that uses all classes except for the \"Unknown\" classifier\n",
    "solution_training_data = global_terrorism_data[global_terrorism_data[\"gnumber\"] != 2]\n",
    "#test_unknown is our testing data"
   ]
  },
  {
   "cell_type": "code",
   "execution_count": 135,
   "metadata": {},
   "outputs": [
    {
     "data": {
      "text/html": [
       "<div>\n",
       "<style scoped>\n",
       "    .dataframe tbody tr th:only-of-type {\n",
       "        vertical-align: middle;\n",
       "    }\n",
       "\n",
       "    .dataframe tbody tr th {\n",
       "        vertical-align: top;\n",
       "    }\n",
       "\n",
       "    .dataframe thead th {\n",
       "        text-align: right;\n",
       "    }\n",
       "</style>\n",
       "<table border=\"1\" class=\"dataframe\">\n",
       "  <thead>\n",
       "    <tr style=\"text-align: right;\">\n",
       "      <th></th>\n",
       "      <th>gname</th>\n",
       "      <th>eventid</th>\n",
       "      <th>extended</th>\n",
       "      <th>provstate</th>\n",
       "      <th>iyear</th>\n",
       "      <th>country</th>\n",
       "      <th>attacktype1</th>\n",
       "      <th>targtype1</th>\n",
       "      <th>weaptype1</th>\n",
       "      <th>multiple</th>\n",
       "      <th>success</th>\n",
       "      <th>suicide</th>\n",
       "      <th>city</th>\n",
       "      <th>citynumber</th>\n",
       "      <th>gnumber</th>\n",
       "    </tr>\n",
       "  </thead>\n",
       "  <tbody>\n",
       "    <tr>\n",
       "      <th>0</th>\n",
       "      <td>MANO-D</td>\n",
       "      <td>197000000001</td>\n",
       "      <td>0</td>\n",
       "      <td>Unknown</td>\n",
       "      <td>1970</td>\n",
       "      <td>58</td>\n",
       "      <td>1</td>\n",
       "      <td>14</td>\n",
       "      <td>13</td>\n",
       "      <td>0</td>\n",
       "      <td>1</td>\n",
       "      <td>0</td>\n",
       "      <td>Santo Domingo</td>\n",
       "      <td>0</td>\n",
       "      <td>0</td>\n",
       "    </tr>\n",
       "    <tr>\n",
       "      <th>1</th>\n",
       "      <td>23rd of September Communist League</td>\n",
       "      <td>197000000002</td>\n",
       "      <td>0</td>\n",
       "      <td>Unknown</td>\n",
       "      <td>1970</td>\n",
       "      <td>130</td>\n",
       "      <td>6</td>\n",
       "      <td>7</td>\n",
       "      <td>13</td>\n",
       "      <td>0</td>\n",
       "      <td>1</td>\n",
       "      <td>0</td>\n",
       "      <td>Mexico city</td>\n",
       "      <td>1</td>\n",
       "      <td>1</td>\n",
       "    </tr>\n",
       "    <tr>\n",
       "      <th>5</th>\n",
       "      <td>Black Nationalists</td>\n",
       "      <td>197001010002</td>\n",
       "      <td>0</td>\n",
       "      <td>Illinois</td>\n",
       "      <td>1970</td>\n",
       "      <td>217</td>\n",
       "      <td>2</td>\n",
       "      <td>3</td>\n",
       "      <td>5</td>\n",
       "      <td>0</td>\n",
       "      <td>1</td>\n",
       "      <td>0</td>\n",
       "      <td>Cairo</td>\n",
       "      <td>5</td>\n",
       "      <td>3</td>\n",
       "    </tr>\n",
       "    <tr>\n",
       "      <th>6</th>\n",
       "      <td>Tupamaros (Uruguay)</td>\n",
       "      <td>197001020001</td>\n",
       "      <td>0</td>\n",
       "      <td>Montevideo</td>\n",
       "      <td>1970</td>\n",
       "      <td>218</td>\n",
       "      <td>1</td>\n",
       "      <td>3</td>\n",
       "      <td>5</td>\n",
       "      <td>0</td>\n",
       "      <td>0</td>\n",
       "      <td>0</td>\n",
       "      <td>Montevideo</td>\n",
       "      <td>6</td>\n",
       "      <td>4</td>\n",
       "    </tr>\n",
       "    <tr>\n",
       "      <th>8</th>\n",
       "      <td>New Year's Gang</td>\n",
       "      <td>197001020003</td>\n",
       "      <td>0</td>\n",
       "      <td>Wisconsin</td>\n",
       "      <td>1970</td>\n",
       "      <td>217</td>\n",
       "      <td>7</td>\n",
       "      <td>4</td>\n",
       "      <td>8</td>\n",
       "      <td>0</td>\n",
       "      <td>1</td>\n",
       "      <td>0</td>\n",
       "      <td>Madison</td>\n",
       "      <td>8</td>\n",
       "      <td>5</td>\n",
       "    </tr>\n",
       "  </tbody>\n",
       "</table>\n",
       "</div>"
      ],
      "text/plain": [
       "                                gname       eventid  extended   provstate  \\\n",
       "0                              MANO-D  197000000001         0     Unknown   \n",
       "1  23rd of September Communist League  197000000002         0     Unknown   \n",
       "5                  Black Nationalists  197001010002         0    Illinois   \n",
       "6                 Tupamaros (Uruguay)  197001020001         0  Montevideo   \n",
       "8                     New Year's Gang  197001020003         0   Wisconsin   \n",
       "\n",
       "   iyear  country  attacktype1  targtype1  weaptype1  multiple  success  \\\n",
       "0   1970       58            1         14         13         0        1   \n",
       "1   1970      130            6          7         13         0        1   \n",
       "5   1970      217            2          3          5         0        1   \n",
       "6   1970      218            1          3          5         0        0   \n",
       "8   1970      217            7          4          8         0        1   \n",
       "\n",
       "   suicide           city  citynumber  gnumber  \n",
       "0        0  Santo Domingo           0        0  \n",
       "1        0    Mexico city           1        1  \n",
       "5        0          Cairo           5        3  \n",
       "6        0     Montevideo           6        4  \n",
       "8        0        Madison           8        5  "
      ]
     },
     "execution_count": 135,
     "metadata": {},
     "output_type": "execute_result"
    }
   ],
   "source": [
    "#Confirm training data is not of \"Unknown\" classification\n",
    "solution_training_data.head()"
   ]
  },
  {
   "cell_type": "code",
   "execution_count": 136,
   "metadata": {},
   "outputs": [
    {
     "data": {
      "text/plain": [
       "NearestNeighbors(algorithm='auto', leaf_size=30, metric='minkowski',\n",
       "         metric_params=None, n_jobs=1, n_neighbors=1, p=2, radius=1.0)"
      ]
     },
     "execution_count": 136,
     "metadata": {},
     "output_type": "execute_result"
    }
   ],
   "source": [
    "#Nearest Neighbors\n",
    "comparison_factors = [\"iyear\",\"country\",\"attacktype1\",\"targtype1\",\n",
    "                      \"weaptype1\",\"multiple\",\"success\",\"suicide\",\n",
    "                      \"citynumber\", \"gnumber\"]\n",
    "gtd_neighbors = NearestNeighbors(n_neighbors=1)\n",
    "gtd_neighbors.fit(solution_training_data[predictor_factors]) "
   ]
  },
  {
   "cell_type": "code",
   "execution_count": 137,
   "metadata": {},
   "outputs": [],
   "source": [
    "#get a small sample set for comparison sake\n",
    "small_test_unknown = test_unknown.sample(n=8,replace=False)"
   ]
  },
  {
   "cell_type": "code",
   "execution_count": 138,
   "metadata": {},
   "outputs": [],
   "source": [
    "#returns the distances and indices of the nearest neighbors\n",
    "distances, indices = gtd_neighbors.kneighbors(small_test_unknown[predictor_factors])"
   ]
  },
  {
   "cell_type": "code",
   "execution_count": 139,
   "metadata": {},
   "outputs": [
    {
     "data": {
      "text/html": [
       "<div>\n",
       "<style scoped>\n",
       "    .dataframe tbody tr th:only-of-type {\n",
       "        vertical-align: middle;\n",
       "    }\n",
       "\n",
       "    .dataframe tbody tr th {\n",
       "        vertical-align: top;\n",
       "    }\n",
       "\n",
       "    .dataframe thead th {\n",
       "        text-align: right;\n",
       "    }\n",
       "</style>\n",
       "<table border=\"1\" class=\"dataframe\">\n",
       "  <thead>\n",
       "    <tr style=\"text-align: right;\">\n",
       "      <th></th>\n",
       "      <th>gname</th>\n",
       "      <th>eventid</th>\n",
       "      <th>extended</th>\n",
       "      <th>provstate</th>\n",
       "      <th>iyear</th>\n",
       "      <th>country</th>\n",
       "      <th>attacktype1</th>\n",
       "      <th>targtype1</th>\n",
       "      <th>weaptype1</th>\n",
       "      <th>multiple</th>\n",
       "      <th>success</th>\n",
       "      <th>suicide</th>\n",
       "      <th>city</th>\n",
       "      <th>citynumber</th>\n",
       "      <th>gnumber</th>\n",
       "    </tr>\n",
       "  </thead>\n",
       "  <tbody>\n",
       "    <tr>\n",
       "      <th>49643</th>\n",
       "      <td>Unknown</td>\n",
       "      <td>199201080007</td>\n",
       "      <td>0</td>\n",
       "      <td>Magdalena</td>\n",
       "      <td>1992</td>\n",
       "      <td>45</td>\n",
       "      <td>2</td>\n",
       "      <td>19</td>\n",
       "      <td>8</td>\n",
       "      <td>0</td>\n",
       "      <td>1</td>\n",
       "      <td>0</td>\n",
       "      <td>Santa Marta</td>\n",
       "      <td>1285</td>\n",
       "      <td>2</td>\n",
       "    </tr>\n",
       "    <tr>\n",
       "      <th>118421</th>\n",
       "      <td>Unknown</td>\n",
       "      <td>201307010002</td>\n",
       "      <td>0</td>\n",
       "      <td>Khyber Pakhtunkhwa</td>\n",
       "      <td>2013</td>\n",
       "      <td>153</td>\n",
       "      <td>2</td>\n",
       "      <td>3</td>\n",
       "      <td>5</td>\n",
       "      <td>0</td>\n",
       "      <td>1</td>\n",
       "      <td>0</td>\n",
       "      <td>Peshawar</td>\n",
       "      <td>619</td>\n",
       "      <td>2</td>\n",
       "    </tr>\n",
       "    <tr>\n",
       "      <th>73413</th>\n",
       "      <td>Unknown</td>\n",
       "      <td>200112120004</td>\n",
       "      <td>0</td>\n",
       "      <td>Kavango</td>\n",
       "      <td>2001</td>\n",
       "      <td>139</td>\n",
       "      <td>3</td>\n",
       "      <td>14</td>\n",
       "      <td>6</td>\n",
       "      <td>1</td>\n",
       "      <td>1</td>\n",
       "      <td>0</td>\n",
       "      <td>Katonodo</td>\n",
       "      <td>14957</td>\n",
       "      <td>2</td>\n",
       "    </tr>\n",
       "    <tr>\n",
       "      <th>83703</th>\n",
       "      <td>Unknown</td>\n",
       "      <td>200707100006</td>\n",
       "      <td>0</td>\n",
       "      <td>Diyala</td>\n",
       "      <td>2007</td>\n",
       "      <td>95</td>\n",
       "      <td>2</td>\n",
       "      <td>14</td>\n",
       "      <td>5</td>\n",
       "      <td>0</td>\n",
       "      <td>1</td>\n",
       "      <td>0</td>\n",
       "      <td>Sherween</td>\n",
       "      <td>17356</td>\n",
       "      <td>2</td>\n",
       "    </tr>\n",
       "    <tr>\n",
       "      <th>17659</th>\n",
       "      <td>Unknown</td>\n",
       "      <td>198301010024</td>\n",
       "      <td>0</td>\n",
       "      <td>Unknown</td>\n",
       "      <td>1983</td>\n",
       "      <td>83</td>\n",
       "      <td>9</td>\n",
       "      <td>4</td>\n",
       "      <td>13</td>\n",
       "      <td>0</td>\n",
       "      <td>1</td>\n",
       "      <td>0</td>\n",
       "      <td>El Palmar</td>\n",
       "      <td>3296</td>\n",
       "      <td>2</td>\n",
       "    </tr>\n",
       "    <tr>\n",
       "      <th>86415</th>\n",
       "      <td>Unknown</td>\n",
       "      <td>200804210032</td>\n",
       "      <td>0</td>\n",
       "      <td>Nineveh</td>\n",
       "      <td>2008</td>\n",
       "      <td>95</td>\n",
       "      <td>6</td>\n",
       "      <td>2</td>\n",
       "      <td>13</td>\n",
       "      <td>0</td>\n",
       "      <td>1</td>\n",
       "      <td>0</td>\n",
       "      <td>Mosul</td>\n",
       "      <td>643</td>\n",
       "      <td>2</td>\n",
       "    </tr>\n",
       "    <tr>\n",
       "      <th>45176</th>\n",
       "      <td>Unknown</td>\n",
       "      <td>199101230006</td>\n",
       "      <td>0</td>\n",
       "      <td>Amman</td>\n",
       "      <td>1991</td>\n",
       "      <td>102</td>\n",
       "      <td>7</td>\n",
       "      <td>7</td>\n",
       "      <td>8</td>\n",
       "      <td>0</td>\n",
       "      <td>0</td>\n",
       "      <td>0</td>\n",
       "      <td>Amman</td>\n",
       "      <td>93</td>\n",
       "      <td>2</td>\n",
       "    </tr>\n",
       "    <tr>\n",
       "      <th>157490</th>\n",
       "      <td>Unknown</td>\n",
       "      <td>201601170025</td>\n",
       "      <td>0</td>\n",
       "      <td>Sirnak</td>\n",
       "      <td>2016</td>\n",
       "      <td>209</td>\n",
       "      <td>3</td>\n",
       "      <td>15</td>\n",
       "      <td>6</td>\n",
       "      <td>0</td>\n",
       "      <td>1</td>\n",
       "      <td>0</td>\n",
       "      <td>Cizre</td>\n",
       "      <td>8120</td>\n",
       "      <td>2</td>\n",
       "    </tr>\n",
       "  </tbody>\n",
       "</table>\n",
       "</div>"
      ],
      "text/plain": [
       "          gname       eventid  extended           provstate  iyear  country  \\\n",
       "49643   Unknown  199201080007         0           Magdalena   1992       45   \n",
       "118421  Unknown  201307010002         0  Khyber Pakhtunkhwa   2013      153   \n",
       "73413   Unknown  200112120004         0             Kavango   2001      139   \n",
       "83703   Unknown  200707100006         0              Diyala   2007       95   \n",
       "17659   Unknown  198301010024         0             Unknown   1983       83   \n",
       "86415   Unknown  200804210032         0             Nineveh   2008       95   \n",
       "45176   Unknown  199101230006         0               Amman   1991      102   \n",
       "157490  Unknown  201601170025         0              Sirnak   2016      209   \n",
       "\n",
       "        attacktype1  targtype1  weaptype1  multiple  success  suicide  \\\n",
       "49643             2         19          8         0        1        0   \n",
       "118421            2          3          5         0        1        0   \n",
       "73413             3         14          6         1        1        0   \n",
       "83703             2         14          5         0        1        0   \n",
       "17659             9          4         13         0        1        0   \n",
       "86415             6          2         13         0        1        0   \n",
       "45176             7          7          8         0        0        0   \n",
       "157490            3         15          6         0        1        0   \n",
       "\n",
       "               city  citynumber  gnumber  \n",
       "49643   Santa Marta        1285        2  \n",
       "118421     Peshawar         619        2  \n",
       "73413      Katonodo       14957        2  \n",
       "83703      Sherween       17356        2  \n",
       "17659     El Palmar        3296        2  \n",
       "86415         Mosul         643        2  \n",
       "45176         Amman          93        2  \n",
       "157490        Cizre        8120        2  "
      ]
     },
     "execution_count": 139,
     "metadata": {},
     "output_type": "execute_result"
    }
   ],
   "source": [
    "# a look at our data set\n",
    "small_test_unknown"
   ]
  },
  {
   "cell_type": "code",
   "execution_count": 140,
   "metadata": {},
   "outputs": [
    {
     "name": "stdout",
     "output_type": "stream",
     "text": [
      "53776    Narco-Terrorists\n",
      "Name: gname, dtype: object GNumber: 53776    1064\n",
      "Name: gnumber, dtype: int64\n",
      "       iyear  country  extended  attacktype1  targtype1  weaptype1  multiple  \\\n",
      "53776   1992       45         0            3         14          6         0   \n",
      "\n",
      "       success  suicide  citynumber  \n",
      "53776        1        0        1285  \n",
      "118585    Muslim extremists\n",
      "Name: gname, dtype: object GNumber: 118585    597\n",
      "Name: gnumber, dtype: int64\n",
      "        iyear  country  extended  attacktype1  targtype1  weaptype1  multiple  \\\n",
      "118585   2013      153         0            2          3          5         0   \n",
      "\n",
      "        success  suicide  citynumber  \n",
      "118585        1        0         619  \n",
      "73416    Al-Aqsa Martyrs Brigade\n",
      "Name: gname, dtype: object GNumber: 73416    2399\n",
      "Name: gnumber, dtype: int64\n",
      "       iyear  country  extended  attacktype1  targtype1  weaptype1  multiple  \\\n",
      "73416   2001      155         0            3         14          6         0   \n",
      "\n",
      "       success  suicide  citynumber  \n",
      "73416        1        0       14956  \n",
      "83761    Maoists\n",
      "Name: gname, dtype: object GNumber: 83761    630\n",
      "Name: gnumber, dtype: int64\n",
      "       iyear  country  extended  attacktype1  targtype1  weaptype1  multiple  \\\n",
      "83761   2007       92         0            3          2          6         0   \n",
      "\n",
      "       success  suicide  citynumber  \n",
      "83761        1        0       17361  \n",
      "17692    Corsican Revolutionary Brigade\n",
      "Name: gname, dtype: object GNumber: 17692    939\n",
      "Name: gnumber, dtype: int64\n",
      "       iyear  country  extended  attacktype1  targtype1  weaptype1  multiple  \\\n",
      "17692   1983       69         0            7          3         13         0   \n",
      "\n",
      "       success  suicide  citynumber  \n",
      "17692        1        0        3304  \n",
      "86759    Islamic State of Iraq (ISI)\n",
      "Name: gname, dtype: object GNumber: 86759    2683\n",
      "Name: gnumber, dtype: int64\n",
      "       iyear  country  extended  attacktype1  targtype1  weaptype1  multiple  \\\n",
      "86759   2008       95         0            9          2         13         0   \n",
      "\n",
      "       success  suicide  citynumber  \n",
      "86759        1        0         643  \n",
      "42241    Islamic Front for the Liberation of Palestine ...\n",
      "Name: gname, dtype: object GNumber: 42241    1474\n",
      "Name: gnumber, dtype: int64\n",
      "       iyear  country  extended  attacktype1  targtype1  weaptype1  multiple  \\\n",
      "42241   1990      102         0            7          7          8         0   \n",
      "\n",
      "       success  suicide  citynumber  \n",
      "42241        1        0          93  \n",
      "113197    Kurdistan Workers' Party (PKK)\n",
      "Name: gname, dtype: object GNumber: 113197    1065\n",
      "Name: gnumber, dtype: int64\n",
      "        iyear  country  extended  attacktype1  targtype1  weaptype1  multiple  \\\n",
      "113197   2013      209         0            3          8          6         0   \n",
      "\n",
      "        success  suicide  citynumber  \n",
      "113197        1        0        8120  \n"
     ]
    }
   ],
   "source": [
    "for index in indices:\n",
    "    print(solution_training_data.iloc[index][\"gname\"],\n",
    "          \"GNumber:\",\n",
    "          solution_training_data.iloc[index][\"gnumber\"]\n",
    "         )\n",
    "    print(solution_training_data.iloc[index][predictor_factors])"
   ]
  },
  {
   "cell_type": "markdown",
   "metadata": {},
   "source": [
    "Note: Analyzing the input data (small_test_unknown) and it's nearest neighbor, notice that there are several feature similarities primarily the city number and country features."
   ]
  },
  {
   "cell_type": "code",
   "execution_count": 141,
   "metadata": {},
   "outputs": [
    {
     "name": "stdout",
     "output_type": "stream",
     "text": [
      "[1064  597 2399  630  939 2683 1474 1065]\n"
     ]
    }
   ],
   "source": [
    "#The implementation to solve our problem (KNN)\n",
    "knn_classifier = KNeighborsClassifier(n_neighbors=1)\n",
    "knn_classifier.fit(solution_training_data[predictor_factors],solution_training_data[\"gnumber\"])\n",
    "knn_class_pred = knn_classifier.predict(small_test_unknown[predictor_factors])\n",
    "print(knn_class_pred)"
   ]
  },
  {
   "cell_type": "code",
   "execution_count": 142,
   "metadata": {},
   "outputs": [
    {
     "name": "stdout",
     "output_type": "stream",
     "text": [
      "[ 202  597  470 2581  235 2683 1474 1065]\n"
     ]
    }
   ],
   "source": [
    "#The implementation to solve our problem (DTree)\n",
    "dtree_classifier = DecisionTreeClassifier(max_depth = 100)\n",
    "dtree_classifier.fit(solution_training_data[predictor_factors],solution_training_data[\"gnumber\"])\n",
    "dtree_class_pred = dtree_classifier.predict(small_test_unknown[predictor_factors])\n",
    "print(dtree_class_pred)"
   ]
  },
  {
   "cell_type": "code",
   "execution_count": 143,
   "metadata": {},
   "outputs": [
    {
     "name": "stdout",
     "output_type": "stream",
     "text": [
      "                                              gname       eventid  extended  \\\n",
      "2778  Revolutionary Armed Forces of Colombia (FARC)  197503000008         0   \n",
      "2839  Revolutionary Armed Forces of Colombia (FARC)  197503290004         0   \n",
      "3441  Revolutionary Armed Forces of Colombia (FARC)  197601140001         1   \n",
      "3796  Revolutionary Armed Forces of Colombia (FARC)  197605290003         0   \n",
      "4104  Revolutionary Armed Forces of Colombia (FARC)  197609280001         1   \n",
      "\n",
      "      provstate  iyear  country  attacktype1  targtype1  weaptype1  multiple  \\\n",
      "2778       Meta   1975       45            2         14          5         0   \n",
      "2839     Boyaca   1975       45            2         14          5         0   \n",
      "3441       Meta   1976       45            6          1         13         0   \n",
      "3796  Santander   1976       45            2         14          5         0   \n",
      "4104     Bogota   1976       45            6          1         13         0   \n",
      "\n",
      "      success  suicide        city  citynumber  gnumber  \n",
      "2778        1        0   Guadalito         642      202  \n",
      "2839        1        0     Otanche         657      202  \n",
      "3441        1        0       Uribe         756      202  \n",
      "3796        1        0  Campo Seco         817      202  \n",
      "4104        1        0      Bogota         379      202  \n",
      "                   gname       eventid  extended provstate  iyear  country  \\\n",
      "9173   Muslim extremists  197909140005         0     Hamah   1979      200   \n",
      "10449  Muslim extremists  198003250004         0     Gilan   1980       94   \n",
      "24175  Muslim extremists  198501210001         0   Unknown   1985       93   \n",
      "31951  Muslim extremists  198709020005         0   Eastern   1987      186   \n",
      "31952  Muslim extremists  198709020006         0   Eastern   1987      186   \n",
      "\n",
      "       attacktype1  targtype1  weaptype1  multiple  success  suicide  \\\n",
      "9173             2          4          5         0        1        0   \n",
      "10449            7          1          8         0        1        0   \n",
      "24175            3         15          6         0        1        0   \n",
      "31951            7          1          8         1        1        0   \n",
      "31952            7          1          8         1        1        0   \n",
      "\n",
      "                city  citynumber  gnumber  \n",
      "9173           Hamah        1705      597  \n",
      "10449  Bandar Anzali         251      597  \n",
      "24175           Java        4626      597  \n",
      "31951          Mutur        4721      597  \n",
      "31952          Mutur        4721      597  \n",
      "                                                   gname       eventid  \\\n",
      "6860   National Union for the Total Independence of A...  197811000003   \n",
      "6861   National Union for the Total Independence of A...  197811000004   \n",
      "14815  National Union for the Total Independence of A...  198111300006   \n",
      "17308  National Union for the Total Independence of A...  198211050001   \n",
      "17576  National Union for the Total Independence of A...  198212220007   \n",
      "\n",
      "       extended   provstate  iyear  country  attacktype1  targtype1  \\\n",
      "6860          0     Unknown   1978        8            3         14   \n",
      "6861          0      Huambo   1978        8            3         14   \n",
      "14815         0      Luanda   1981        8            3         21   \n",
      "17308         0  Cuanza Sul   1982        8            6         14   \n",
      "17576         0      Huambo   1982        8            6         14   \n",
      "\n",
      "       weaptype1  multiple  success  suicide    city  citynumber  gnumber  \n",
      "6860           6         0        1        0   Canhe        1398      470  \n",
      "6861           6         0        1        0  Huambo        1399      470  \n",
      "14815          6         0        1        0  Luanda        1700      470  \n",
      "17308         13         0        1        0  Calulo        3218      470  \n",
      "17576         13         0        1        0  Huambo        1399      470  \n",
      "                  gname       eventid  extended provstate  iyear  country  \\\n",
      "77057  Al-Qaida in Iraq  200410240001         0    Diyala   2004       95   \n",
      "77063  Al-Qaida in Iraq  200410250001         0   Baghdad   2004       95   \n",
      "77070  Al-Qaida in Iraq  200410270002         1   Baghdad   2004       95   \n",
      "77167  Al-Qaida in Iraq  200412030007         0   Baghdad   2004       95   \n",
      "77206  Al-Qaida in Iraq  200412140001         0   Baghdad   2004       95   \n",
      "\n",
      "       attacktype1  targtype1  weaptype1  multiple  success  suicide     city  \\\n",
      "77057            2          3          5         0        1        0  Mandali   \n",
      "77063            3          4          6         0        1        0  Baghdad   \n",
      "77070            6         18          5         0        1        0  Baghdad   \n",
      "77167            7          3          5         0        1        0  Baghdad   \n",
      "77206            3          4          6         0        1        1  Baghdad   \n",
      "\n",
      "       citynumber  gnumber  \n",
      "77057       16014     2581  \n",
      "77063         900     2581  \n",
      "77070         900     2581  \n",
      "77167         900     2581  \n",
      "77206         900     2581  \n",
      "                                 gname       eventid  extended provstate  \\\n",
      "3311  Guerrilla Army of the Poor (EGP)  197511010001         0   Unknown   \n",
      "3373  Guerrilla Army of the Poor (EGP)  197512120001         0   Unknown   \n",
      "3393  Guerrilla Army of the Poor (EGP)  197512260001         0   Unknown   \n",
      "3467  Guerrilla Army of the Poor (EGP)  197601260001         0   Unknown   \n",
      "3532  Guerrilla Army of the Poor (EGP)  197602200001         0   Unknown   \n",
      "\n",
      "      iyear  country  attacktype1  targtype1  weaptype1  multiple  success  \\\n",
      "3311   1975       83            1          4          5         0        1   \n",
      "3373   1975       83            1         22          5         0        1   \n",
      "3393   1975       83            1          2          5         0        1   \n",
      "3467   1976       83            2          3          5         0        1   \n",
      "3532   1976       83            1          2          5         0        1   \n",
      "\n",
      "      suicide            city  citynumber  gnumber  \n",
      "3311        0      Chiquimula         737      235  \n",
      "3373        0  Guatemala City          21      235  \n",
      "3393        0  Guatemala City          21      235  \n",
      "3467        0  Guatemala City          21      235  \n",
      "3532        0  Guatemala City          21      235  \n",
      "                             gname       eventid  extended provstate  iyear  \\\n",
      "82086  Islamic State of Iraq (ISI)  200701190003         0   Baghdad   2007   \n",
      "82406  Islamic State of Iraq (ISI)  200703010001         0    Diyala   2007   \n",
      "82412  Islamic State of Iraq (ISI)  200703020002         1   Baghdad   2007   \n",
      "82424  Islamic State of Iraq (ISI)  200703060002         0     Babil   2007   \n",
      "82437  Islamic State of Iraq (ISI)  200703110003         0    Diyala   2007   \n",
      "\n",
      "       country  attacktype1  targtype1  weaptype1  multiple  success  suicide  \\\n",
      "82086       95            2         14          5         0        1        0   \n",
      "82406       95            6          3          5         0        1        0   \n",
      "82412       95            6          2         13         0        1        0   \n",
      "82424       95            3         14          6         0        1        1   \n",
      "82437       95            7         14          8         0        1        0   \n",
      "\n",
      "          city  citynumber  gnumber  \n",
      "82086  Baghdad         900     2683  \n",
      "82406  Baqubah       13003     2683  \n",
      "82412  Baghdad         900     2683  \n",
      "82424   Hillah       15782     2683  \n",
      "82437   Diyala       15712     2683  \n",
      "                                                   gname       eventid  \\\n",
      "42241  Islamic Front for the Liberation of Palestine ...  199004280013   \n",
      "\n",
      "       extended provstate  iyear  country  attacktype1  targtype1  weaptype1  \\\n",
      "42241         0     Amman   1990      102            7          7          8   \n",
      "\n",
      "       multiple  success  suicide   city  citynumber  gnumber  \n",
      "42241         0        1        0  Amman          93     1474  \n",
      "                                gname       eventid  extended provstate  \\\n",
      "22857  Kurdistan Workers' Party (PKK)  198408150003         0     Siirt   \n",
      "22858  Kurdistan Workers' Party (PKK)  198408150004         0   Hakkari   \n",
      "23385  Kurdistan Workers' Party (PKK)  198410090003         0   Hakkari   \n",
      "29312  Kurdistan Workers' Party (PKK)  198610210006         0    Mardin   \n",
      "31352  Kurdistan Workers' Party (PKK)  198706300003         0    Mardin   \n",
      "\n",
      "       iyear  country  attacktype1  targtype1  weaptype1  multiple  success  \\\n",
      "22857   1984      209            3          4          6         0        1   \n",
      "22858   1984      209            9          4         13         0        1   \n",
      "23385   1984      209            9          4         13         0        1   \n",
      "29312   1986      209            3          4          5         0        1   \n",
      "31352   1987      209            7          1          5         0        1   \n",
      "\n",
      "       suicide      city  citynumber  gnumber  \n",
      "22857        0      Eruh        4372     1065  \n",
      "22858        0   Hakkari        4373     1065  \n",
      "23385        0   Cukurca        4467     1065  \n",
      "29312        0    Mardin        1437     1065  \n",
      "31352        0  Gungoren        5848     1065  \n"
     ]
    }
   ],
   "source": [
    "for pred in dtree_class_pred:\n",
    "    predicted_data = global_terrorism_data[global_terrorism_data[\"gnumber\"] == pred].head()\n",
    "    print(predicted_data)"
   ]
  },
  {
   "cell_type": "markdown",
   "metadata": {},
   "source": [
    "Note: Analyzing the input data (small_test_unknown) and data entries based on output (dtree_class_pred), notice that there are several feature similarities primarily the city number and country features"
   ]
  },
  {
   "cell_type": "markdown",
   "metadata": {},
   "source": [
    "# 5. Conclusion\n",
    "\n",
    "In theory, we can build accurate classifiaction models to predict which perpetrator group is responsible for a terrorist incident. However we are not able to evaluate with certainity the accuracy of such models. We can however infer from analysis that by selecting the best features within the data and supplying the proper training data to our models we can accurately predict the perpetrator group for a terrorist event"
   ]
  }
 ],
 "metadata": {
  "kernelspec": {
   "display_name": "Python 3",
   "language": "python",
   "name": "python3"
  },
  "language_info": {
   "codemirror_mode": {
    "name": "ipython",
    "version": 3
   },
   "file_extension": ".py",
   "mimetype": "text/x-python",
   "name": "python",
   "nbconvert_exporter": "python",
   "pygments_lexer": "ipython3",
   "version": "3.6.5"
  }
 },
 "nbformat": 4,
 "nbformat_minor": 1
}
